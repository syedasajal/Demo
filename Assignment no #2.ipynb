{
 "cells": [
  {
   "cell_type": "code",
   "execution_count": 4,
   "id": "a1703f4f",
   "metadata": {},
   "outputs": [
    {
     "name": "stdout",
     "output_type": "stream",
     "text": [
      "enter your num:-1\n",
      "number is negative\n"
     ]
    }
   ],
   "source": [
    "#question no 1\n",
    "\n",
    "#Q1: Write a program to tell if a given number is negative, zero or positive.\n",
    "\n",
    "number=int(input(\"enter your num:\"))\n",
    "if number<0:\n",
    "    print(\"number is negative\")\n",
    "elif number==0:\n",
    "    print(\"number is zero\")\n",
    "elif number>0:\n",
    "    print(\"number is positive\")\n",
    "else:\n",
    "    print(\"not defined\")"
   ]
  },
  {
   "cell_type": "code",
   "execution_count": 6,
   "id": "39d9008c",
   "metadata": {},
   "outputs": [
    {
     "name": "stdout",
     "output_type": "stream",
     "text": [
      "enter your number:34\n",
      "number is even\n"
     ]
    }
   ],
   "source": [
    "#question no 2\n",
    "\n",
    "#Q2. Write a program to print whether a given number is even or odd.\n",
    "\n",
    "number=int(input(\"enter your number:\"))\n",
    "if number%2==0:\n",
    "    print(\"number is even\")\n",
    "else:\n",
    "    print(\"number is odd\")\n",
    "    "
   ]
  },
  {
   "cell_type": "code",
   "execution_count": 34,
   "id": "8645add4",
   "metadata": {},
   "outputs": [
    {
     "name": "stdout",
     "output_type": "stream",
     "text": [
      "number is odd\n",
      "number is even\n",
      "number is odd\n",
      "number is even\n",
      "number is odd\n",
      "number is even\n",
      "number is odd\n",
      "number is even\n",
      "number is odd\n",
      "number is even\n",
      "[2, 4, 6, 8, 10]\n",
      "[1, 3, 5, 7, 9]\n"
     ]
    }
   ],
   "source": [
    "# question no 3\n",
    "\n",
    "#Q3. Write a program to print all the even and odd numbers (two separate sequences) up to a \n",
    "# given number.\n",
    "\n",
    "number=[1,2,3,4,5,6,7,8,9,10]\n",
    "a=[]\n",
    "b=[]\n",
    "for i in number:\n",
    "    if i%2==0:\n",
    "        print(\"number is even\")\n",
    "        a=a + [i]\n",
    "    else:\n",
    "        print(\"number is odd\")\n",
    "        b=b + [i]\n",
    "    \n",
    "        \n",
    "print(a)\n",
    "print(b)\n",
    "    "
   ]
  },
  {
   "cell_type": "code",
   "execution_count": 42,
   "id": "a1208b95",
   "metadata": {},
   "outputs": [
    {
     "name": "stdout",
     "output_type": "stream",
     "text": [
      "enter your character:,,\n",
      "character is punctuation\n"
     ]
    }
   ],
   "source": [
    "#question no 4\n",
    "\n",
    "#Q4. Write a program to check if the given character is an alphabet, digit or a punctuation \n",
    "#character.\n",
    "\n",
    "char = input(\"enter your character:\")\n",
    "\n",
    "if (char>=\"a\" and char<=\"z\") or (char>=\"A\" and char<=\"Z\"):\n",
    "    print(\"character is alphabet\")\n",
    "elif char>=\"0\":\n",
    "    print(\"character is digit\")\n",
    "else:\n",
    "    print(\"character is punctuation\")\n",
    "\n"
   ]
  },
  {
   "cell_type": "code",
   "execution_count": 2,
   "id": "20d54acd",
   "metadata": {},
   "outputs": [
    {
     "name": "stdout",
     "output_type": "stream",
     "text": [
      "enter your alphabet:a\n",
      "alphabet is vowel\n"
     ]
    }
   ],
   "source": [
    "# question no 5\n",
    "\n",
    "#Q5: Write a program to check if the given alphabet is a consonant or a vowel.\n",
    "\n",
    "alpha= input(\"enter your alphabet:\")\n",
    "if (alpha==\"A\" or alpha==\"a\") or (alpha==\"E\" or alpha==\"e\" ) or (alpha==\"I\" or alpha==\"i\") or (alpha==\"O\" or alpha==\"o\") or (alpha==\"U\" or alpha==\"u\"):\n",
    "    print(\"alphabet is vowel\")\n",
    "else:\n",
    "    print(\"alphabet is consonant\")\n"
   ]
  },
  {
   "cell_type": "code",
   "execution_count": 4,
   "id": "9f1bdc45",
   "metadata": {},
   "outputs": [
    {
     "name": "stdout",
     "output_type": "stream",
     "text": [
      "enter your string:syeda sajal\n",
      "total number of Vowels in this string =  4\n",
      "total number of Consonant in this string =  7\n"
     ]
    }
   ],
   "source": [
    "# question no 6\n",
    "# Q6: Write a program to count the number vowels and consonants in the given\n",
    "#input string.\n",
    "\n",
    "string = input(\"enter your string:\")\n",
    "vowels = 0\n",
    "consonant = 0\n",
    "for num in string:\n",
    "    if (num ==\"a\" or num==\"e\" or num==\"i\" or num==\"o\" or num==\"u\" \n",
    "        or num==\"A\" or num==\"E\" or num==\"I\" or num==\"O\" or num==\"U\"):\n",
    "        vowels = vowels + 1\n",
    "    else:\n",
    "        consonant = consonant + 1\n",
    "        \n",
    "        \n",
    "print(\"total number of Vowels in this string = \" , vowels)\n",
    "print(\"total number of Consonant in this string = \", consonant)\n",
    "\n",
    "\n"
   ]
  },
  {
   "cell_type": "code",
   "execution_count": 2,
   "id": "80f7e23c",
   "metadata": {},
   "outputs": [
    {
     "name": "stdout",
     "output_type": "stream",
     "text": [
      "enter your number:5\n",
      "number is prime =  5\n"
     ]
    }
   ],
   "source": [
    "# question no 7\n",
    "\n",
    "#Q7: Write a program to check if the given number is prime or not.\n",
    "\n",
    "number = int(input(\"enter your number:\"))\n",
    "for i in range(2,number):\n",
    "    if number % i == 0:\n",
    "        print(\"number is not prime = \", number)\n",
    "        break\n",
    "    else:\n",
    "        print(\"number is prime = \", number)\n",
    "        break\n",
    "    "
   ]
  },
  {
   "cell_type": "code",
   "execution_count": 3,
   "id": "41d59ed7",
   "metadata": {},
   "outputs": [
    {
     "name": "stdout",
     "output_type": "stream",
     "text": [
      "enter your number:9\n",
      "1\n",
      "3\n",
      "5\n",
      "7\n"
     ]
    }
   ],
   "source": [
    "# question no 8\n",
    "#Q8: Write a program to print all the prime numbers up to a given number.\n",
    "\n",
    "number=int(input(\"enter your number:\"))\n",
    "for i in range(number):\n",
    "    if i%2 != 0:\n",
    "        print(i)"
   ]
  },
  {
   "cell_type": "code",
   "execution_count": 95,
   "id": "2c27452f",
   "metadata": {},
   "outputs": [
    {
     "name": "stdout",
     "output_type": "stream",
     "text": [
      "enter your year:2000\n",
      "leap year\n"
     ]
    }
   ],
   "source": [
    "#question no 9\n",
    "\n",
    "#Q9: Write a program to check if the given year is a leap year or not.\n",
    "\n",
    "year = int(input(\"enter your year:\"))\n",
    "if year % 4 == 0:\n",
    "    print(\"leap year\")\n",
    "else:\n",
    "    print(\"not leap year\")\n",
    "\n"
   ]
  },
  {
   "cell_type": "code",
   "execution_count": 73,
   "id": "3f07aad3",
   "metadata": {},
   "outputs": [
    {
     "name": "stdout",
     "output_type": "stream",
     "text": [
      "the string is palindrome\n"
     ]
    }
   ],
   "source": [
    "# question no 10\n",
    "\n",
    "#Q10: Write a program to check if the given string is a palindrome.\n",
    "\n",
    "my_str = \"madam\"\n",
    "\n",
    "rev_str = reversed(my_str)\n",
    "\n",
    "if list(my_str) == list(rev_str):\n",
    "    print(\"the string is palindrome\")\n",
    "else:\n",
    "    print(\"the string is not palindrome\")\n",
    "\n"
   ]
  },
  {
   "cell_type": "code",
   "execution_count": 3,
   "id": "46fe3712",
   "metadata": {},
   "outputs": [
    {
     "name": "stdout",
     "output_type": "stream",
     "text": [
      "enter your number:5\n",
      "factorial of num= 1\n",
      "factorial of num= 2\n",
      "factorial of num= 6\n",
      "factorial of num= 24\n",
      "factorial of num= 120\n"
     ]
    }
   ],
   "source": [
    "#question no 11\n",
    "#Q11: Write a program to print factorial of a given number.\n",
    "\n",
    "num=int(input(\"enter your number:\"))\n",
    "fac=1\n",
    "for i in range(1,num+1):\n",
    "    fac= fac * i\n",
    "    print(\"factorial of num=\", fac)\n"
   ]
  },
  {
   "cell_type": "code",
   "execution_count": 38,
   "id": "158b71ae",
   "metadata": {},
   "outputs": [
    {
     "name": "stdout",
     "output_type": "stream",
     "text": [
      "enter your number:5\n",
      "120\n"
     ]
    }
   ],
   "source": [
    "num=int(input(\"enter your number:\"))\n",
    "nxt = num-1\n",
    "while True:\n",
    "    if nxt == 0:\n",
    "        break\n",
    "    num = num * nxt\n",
    "    nxt = nxt - 1  \n",
    "\n",
    "print(num)"
   ]
  },
  {
   "cell_type": "code",
   "execution_count": 33,
   "id": "92c267d3",
   "metadata": {},
   "outputs": [
    {
     "name": "stdout",
     "output_type": "stream",
     "text": [
      "enter your n-term:11\n",
      "0\n",
      "1\n",
      "1\n",
      "2\n",
      "3\n",
      "5\n",
      "8\n",
      "13\n",
      "21\n",
      "34\n",
      "55\n"
     ]
    }
   ],
   "source": [
    "#question no 12\n",
    "\n",
    "#Q12: Write a program to generate the first n terms of the Fibonacci series.\n",
    "\n",
    "nterm = int(input(\"enter your n-term:\"))\n",
    "a= 0\n",
    "b= 1\n",
    "if nterm<=0:\n",
    "    print(\"enter a positive integer\")\n",
    "elif nterm==1:\n",
    "    print(a)\n",
    "else:\n",
    "    print(a)\n",
    "    print(b)\n",
    "    for i in range(2,nterm):\n",
    "        c = a + b \n",
    "        a = b\n",
    "        b = c\n",
    "        print(c)\n"
   ]
  },
  {
   "cell_type": "code",
   "execution_count": 111,
   "id": "0e295e14",
   "metadata": {},
   "outputs": [
    {
     "name": "stdout",
     "output_type": "stream",
     "text": [
      "enter your total marks:350\n",
      "70.0\n",
      "your grade is B\n"
     ]
    }
   ],
   "source": [
    "#question no 13\n",
    "#Q13: Write a program to print the grade for a given percentage of marks. The grade should be \n",
    "#A for marks>=80, \n",
    "#B for marks>=60, \n",
    "#C for marks>=40 and \n",
    "#D otherwise.\n",
    "\n",
    "\n",
    "marks= int(input(\"enter your total marks:\"))\n",
    "percentage = (marks/500)*100\n",
    "print(percentage)\n",
    "\n",
    "if percentage>=80:\n",
    "    print(\"your grade is A\")\n",
    "elif percentage>=60:\n",
    "    print(\"your grade is B\")\n",
    "elif percentage>=40:\n",
    "    print(\"your grade is C\")\n",
    "else:\n",
    "    print(\"D\")\n",
    "    "
   ]
  },
  {
   "cell_type": "code",
   "execution_count": 20,
   "id": "0f925604",
   "metadata": {},
   "outputs": [
    {
     "name": "stdout",
     "output_type": "stream",
     "text": [
      "enter value of x:7\n",
      "enter value of y:0\n",
      "enter value of z:0\n",
      "point lies on x-axis\n"
     ]
    }
   ],
   "source": [
    "# question no 14\n",
    "\n",
    "#Q14: Write a program to find if the given point lies on the x-axis, y-axis or on the z-axis,\n",
    "#given it’s coordinates. e.g: A point is shown like:(x-value, y-value, z-value) for example \n",
    "#(12,56,78)\n",
    "\n",
    "x = int(input(\"enter value of x:\"))\n",
    "y = int(input(\"enter value of y:\"))\n",
    "z = int(input(\"enter value of z:\"))\n",
    "\n",
    "if x>0 and y==0 and z==0:\n",
    "    print(\"point lies on x-axis\")\n",
    "elif y>0 and x==0 and z==0:\n",
    "    print(\"point lies on y-axis\")\n",
    "elif z>0 and x==0 and y==0:\n",
    "    print(\"point lies on z-axis\")\n",
    "elif x==0 and y==0 and z==0:\n",
    "    print(\"point lies on origin\")\n",
    "else:\n",
    "    print(\"invalid\")\n"
   ]
  },
  {
   "cell_type": "code",
   "execution_count": 15,
   "id": "a3bea760",
   "metadata": {},
   "outputs": [
    {
     "name": "stdout",
     "output_type": "stream",
     "text": [
      "enter your 1st number:5\n",
      "enter you 2nd number:8\n",
      "enter your 3rd number:4\n",
      "enter your 4rth number:8\n",
      "5.0\n"
     ]
    }
   ],
   "source": [
    "#question no 15\n",
    "\n",
    "#Q15: Write a program to find the distance between the two points. User should enter the \n",
    "#coordinates of the two points.\n",
    "\n",
    "x_1 = int(input(\"enter your 1st number:\"))\n",
    "x_2 = int(input(\"enter you 2nd number:\"))\n",
    "y_1 = int(input(\"enter your 3rd number:\"))\n",
    "y_2 = int(input(\"enter your 4rth number:\"))\n",
    "\n",
    "distance = ((((x_2 - x_1)**2) + ((y_2 - y_1)**2))**0.5)\n",
    "print(distance)\n",
    "\n",
    "\n"
   ]
  },
  {
   "cell_type": "code",
   "execution_count": 17,
   "id": "fb6b04e6",
   "metadata": {},
   "outputs": [
    {
     "name": "stdout",
     "output_type": "stream",
     "text": [
      "enter your number x:5\n",
      "enter your number y:5\n",
      "enter your number z:6\n",
      "isosceles triangle\n"
     ]
    }
   ],
   "source": [
    "#question no 16\n",
    "\n",
    "#Q16: Write a program to print if the given triangle is an equilateral triangle, isosceles \n",
    "#triangle or scalene triangle. User should enter the values for the sides of the triangle.\n",
    "\n",
    "x = int(input(\"enter your number x:\"))\n",
    "y = int(input(\"enter your number y:\"))\n",
    "z = int(input(\"enter your number z:\"))\n",
    "\n",
    "if x==y==z:\n",
    "    print(\"equilateral triangle\")\n",
    "elif x==y or y==z or z==x:\n",
    "    print(\"isosceles triangle\")\n",
    "else:\n",
    "    print(\"scalene triangle\")\n",
    "\n"
   ]
  },
  {
   "cell_type": "code",
   "execution_count": 25,
   "id": "2df0871c",
   "metadata": {},
   "outputs": [
    {
     "name": "stdout",
     "output_type": "stream",
     "text": [
      "enter your number:44\n",
      "enter your number:55\n",
      "enter your number:66\n",
      "enter your number:77\n",
      "enter your number:i\n",
      "Please enter either a number or done\n",
      "enter your number:done\n",
      "Total is:    242\n",
      "Count is:    4\n",
      "Average is:  60.5\n"
     ]
    }
   ],
   "source": [
    "#question no 17\n",
    "\n",
    "#Q17: Write a program which repeatedly reads numbers until the user enters “done”. Once “done” \n",
    "#is entered, print out the total, count, and average of the numbers. If the user enters anything\n",
    "#other than a number, detect their mistake.\n",
    "\n",
    "data = []\n",
    "while True:\n",
    "    number = input(\"enter your number:\")\n",
    "    \n",
    "    if not number.isdigit():\n",
    "        if number=='done':\n",
    "            print('Total is:   ', sum(data))\n",
    "            print('Count is:   ', len(data))\n",
    "            print('Average is: ', sum(data)/len(data))\n",
    "            break\n",
    "        else:\n",
    "            print('Please enter either a number or done')\n",
    "            continue  \n",
    "\n",
    "    \n",
    "    number = int(number)\n",
    "    data.append(number)"
   ]
  },
  {
   "cell_type": "code",
   "execution_count": null,
   "id": "28e6a7be",
   "metadata": {},
   "outputs": [],
   "source": []
  }
 ],
 "metadata": {
  "kernelspec": {
   "display_name": "Python 3 (ipykernel)",
   "language": "python",
   "name": "python3"
  },
  "language_info": {
   "codemirror_mode": {
    "name": "ipython",
    "version": 3
   },
   "file_extension": ".py",
   "mimetype": "text/x-python",
   "name": "python",
   "nbconvert_exporter": "python",
   "pygments_lexer": "ipython3",
   "version": "3.9.7"
  }
 },
 "nbformat": 4,
 "nbformat_minor": 5
}
