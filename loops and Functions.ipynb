{
 "cells": [
  {
   "cell_type": "code",
   "execution_count": 1,
   "id": "b89bce6c",
   "metadata": {},
   "outputs": [
    {
     "name": "stdout",
     "output_type": "stream",
     "text": [
      "a is greater than b\n"
     ]
    }
   ],
   "source": [
    "a=[25,36,12,12]\n",
    "b=[1]\n",
    "c=[2,3]\n",
    "\n",
    "if a==b:\n",
    "    print(\"equality\")\n",
    "elif a>b:\n",
    "    print(\"a is greater than b\")\n",
    "else:\n",
    "    a<b\n",
    "    print(\"a is less than b\")\n",
    "    "
   ]
  },
  {
   "cell_type": "code",
   "execution_count": 3,
   "id": "ca9d81fa",
   "metadata": {},
   "outputs": [
    {
     "name": "stdout",
     "output_type": "stream",
     "text": [
      "yes\n",
      "True\n"
     ]
    }
   ],
   "source": [
    "a=[1]\n",
    "b=[1,25,36,12,12]\n",
    "c=[1,2,3]\n",
    "\n",
    "if a[0] in b:\n",
    "    print(\"yes\")\n",
    "    if a[0] in c:\n",
    "        print(\"True\")\n",
    "else:\n",
    "    print(\"No\")\n",
    "        "
   ]
  },
  {
   "cell_type": "code",
   "execution_count": 4,
   "id": "9c9c8cf8",
   "metadata": {},
   "outputs": [
    {
     "name": "stdout",
     "output_type": "stream",
     "text": [
      "No\n"
     ]
    }
   ],
   "source": [
    "a=[1]\n",
    "b=[25,36,12,12]\n",
    "c=[2,3]\n",
    "\n",
    "if a[0] in b:\n",
    "    print(\"yes\")\n",
    "    if a[0] in c:\n",
    "        print(\"True\")\n",
    "else:\n",
    "    print(\"No\")"
   ]
  },
  {
   "cell_type": "code",
   "execution_count": 8,
   "id": "fc963691",
   "metadata": {},
   "outputs": [
    {
     "name": "stdout",
     "output_type": "stream",
     "text": [
      "yes\n"
     ]
    }
   ],
   "source": [
    "a=[1]\n",
    "b=[25,36,12,12]\n",
    "c=[1,2,3]\n",
    "if a[0] in c:\n",
    "    print(\"yes\")\n",
    "    if a[0] in b:\n",
    "        print(\"True\")\n"
   ]
  },
  {
   "cell_type": "code",
   "execution_count": 9,
   "id": "094c3921",
   "metadata": {},
   "outputs": [
    {
     "name": "stdout",
     "output_type": "stream",
     "text": [
      "apple\n",
      "banana\n",
      "cherry\n"
     ]
    }
   ],
   "source": [
    "# for loop\n",
    "fruits=[\"apple\",\"banana\",\"cherry\"]\n",
    "for items in fruits:\n",
    "    print(items)"
   ]
  },
  {
   "cell_type": "code",
   "execution_count": 10,
   "id": "751e74b2",
   "metadata": {},
   "outputs": [
    {
     "name": "stdout",
     "output_type": "stream",
     "text": [
      "c\n",
      "h\n",
      "e\n",
      "r\n",
      "r\n",
      "y\n"
     ]
    }
   ],
   "source": [
    "# for loop\n",
    "fruits=[\"apple\",\"banana\",\"cherry\"]\n",
    "for items in \"cherry\":\n",
    "    print(items)"
   ]
  },
  {
   "cell_type": "code",
   "execution_count": 8,
   "id": "e6e2469a",
   "metadata": {},
   "outputs": [
    {
     "name": "stdout",
     "output_type": "stream",
     "text": [
      "1\n",
      "2\n",
      "3\n"
     ]
    }
   ],
   "source": [
    "data=[1,2,3]\n",
    "for item in data:\n",
    "    print(item)"
   ]
  },
  {
   "cell_type": "code",
   "execution_count": 12,
   "id": "a10486d1",
   "metadata": {},
   "outputs": [
    {
     "name": "stdout",
     "output_type": "stream",
     "text": [
      "1\n",
      "2\n",
      "[2]\n",
      "2\n",
      "3\n",
      "[2, 3]\n",
      "3\n",
      "4\n",
      "[2, 3, 4]\n"
     ]
    }
   ],
   "source": [
    "data=[1,2,3]\n",
    "new_list=[]\n",
    "for item in data:\n",
    "    print(item)\n",
    "    new_num=item +1\n",
    "    print(new_num)\n",
    "    new_list.append(new_num)\n",
    "    print(new_list)\n",
    "    \n",
    "    "
   ]
  },
  {
   "cell_type": "code",
   "execution_count": 9,
   "id": "9461ef10",
   "metadata": {},
   "outputs": [
    {
     "name": "stdout",
     "output_type": "stream",
     "text": [
      "1\n",
      "2\n",
      "3\n",
      "4\n",
      "5\n",
      "6\n"
     ]
    }
   ],
   "source": [
    "data=[\"rafhan\",\"javeria\",\"junaid\",\"sajal\",\"hamza\",\"sumbal\"]\n",
    "position=0\n",
    "males=[]\n",
    "females=[]\n",
    "for name in data:\n",
    "    position=position + 1\n",
    "    print(position)"
   ]
  },
  {
   "cell_type": "code",
   "execution_count": 20,
   "id": "e30be328",
   "metadata": {},
   "outputs": [
    {
     "name": "stdout",
     "output_type": "stream",
     "text": [
      "3\n",
      "454\n",
      "6\n",
      "34\n",
      "9\n",
      "33\n",
      "12\n",
      "33\n"
     ]
    }
   ],
   "source": [
    "data=[13.44,666.66,454,5454,54,34,543,345,33,4543,345,33,2223,3534]\n",
    "position=1\n",
    "for x in data:\n",
    "    if position%3==0:\n",
    "        print(position)\n",
    "        print(x)\n",
    "        \n",
    "    position=position+1\n",
    "    "
   ]
  },
  {
   "cell_type": "code",
   "execution_count": 24,
   "id": "f2d9fc95",
   "metadata": {},
   "outputs": [
    {
     "name": "stdout",
     "output_type": "stream",
     "text": [
      "454\n",
      "34\n",
      "33\n",
      "33\n"
     ]
    }
   ],
   "source": [
    "data=[13.44,666.66,454,5454,54,34,543,345,33,4543,345,33,2223,3534]\n",
    "position=1\n",
    "for item in data:\n",
    "    if position==3:\n",
    "        print(item)\n",
    "        position=0\n",
    "    position=position+1\n"
   ]
  },
  {
   "cell_type": "code",
   "execution_count": 22,
   "id": "4f279973",
   "metadata": {},
   "outputs": [
    {
     "ename": "SyntaxError",
     "evalue": "expression cannot contain assignment, perhaps you meant \"==\"? (Temp/ipykernel_1184/1592568128.py, line 4)",
     "output_type": "error",
     "traceback": [
      "\u001b[1;36m  File \u001b[1;32m\"C:\\Users\\HPUSER~1\\AppData\\Local\\Temp/ipykernel_1184/1592568128.py\"\u001b[1;36m, line \u001b[1;32m4\u001b[0m\n\u001b[1;33m    print(item.end=\" \")\u001b[0m\n\u001b[1;37m          ^\u001b[0m\n\u001b[1;31mSyntaxError\u001b[0m\u001b[1;31m:\u001b[0m expression cannot contain assignment, perhaps you meant \"==\"?\n"
     ]
    }
   ],
   "source": [
    "# for loop\n",
    "fruits=[\"apple\",\"banana\",\"cherry\"]\n",
    "for item in \"cherry\":\n",
    "    print(item.end=\" \")"
   ]
  },
  {
   "cell_type": "code",
   "execution_count": 18,
   "id": "8a405330",
   "metadata": {},
   "outputs": [
    {
     "name": "stdout",
     "output_type": "stream",
     "text": [
      "apple\n",
      "banana\n"
     ]
    }
   ],
   "source": [
    "# for loop\n",
    "fruits=[\"apple\",\"banana\",\"cherry\",\"Avocado\"]\n",
    "for items in fruits:\n",
    "    if items==\"cherry\":\n",
    "       break\n",
    "    print(items)"
   ]
  },
  {
   "cell_type": "code",
   "execution_count": 19,
   "id": "785d9c75",
   "metadata": {},
   "outputs": [
    {
     "name": "stdout",
     "output_type": "stream",
     "text": [
      "apple\n",
      "banana\n",
      "Avocado\n"
     ]
    }
   ],
   "source": [
    "# for loop\n",
    "fruits=[\"apple\",\"banana\",\"cherry\",\"Avocado\"]\n",
    "for items in fruits:\n",
    "    if items==\"cherry\":\n",
    "       continue\n",
    "    print(items)"
   ]
  },
  {
   "cell_type": "code",
   "execution_count": 23,
   "id": "2f8b08a9",
   "metadata": {},
   "outputs": [
    {
     "name": "stdout",
     "output_type": "stream",
     "text": [
      "Javeria\n",
      "Nikal diya\n",
      "Arsalan\n",
      "Sajal\n",
      "Hasnain\n",
      "Ahmad\n"
     ]
    }
   ],
   "source": [
    "name=[\"Javeria\",\"Noor\",\"Arsalan\",\"Sajal\",\"Hasnain\",\"Ahmad\"]\n",
    "for b_com_ke_bachy in name:\n",
    "    if b_com_ke_bachy==\"Noor\":\n",
    "        print(\"Nikal diya\")\n",
    "        continue\n",
    "    print(b_com_ke_bachy)\n",
    "    "
   ]
  },
  {
   "cell_type": "code",
   "execution_count": 24,
   "id": "5750eddf",
   "metadata": {},
   "outputs": [
    {
     "name": "stdout",
     "output_type": "stream",
     "text": [
      "Javeria\n",
      "Nikal diya\n"
     ]
    }
   ],
   "source": [
    "name=[\"Javeria\",\"Noor\",\"Arsalan\",\"Sajal\",\"Hasnain\",\"Ahmad\"]\n",
    "for b_com_ke_bachy in name:\n",
    "    if b_com_ke_bachy==\"Noor\":\n",
    "        print(\"Nikal diya\")\n",
    "        break\n",
    "    print(b_com_ke_bachy)\n",
    "    "
   ]
  },
  {
   "cell_type": "code",
   "execution_count": 25,
   "id": "9b10ccf6",
   "metadata": {},
   "outputs": [
    {
     "name": "stdout",
     "output_type": "stream",
     "text": [
      "Javeria\n",
      "Noor\n",
      "Arsalan\n",
      "Nikal diya\n",
      "Hasnain\n",
      "Nikal diya\n",
      "Ahmad\n"
     ]
    }
   ],
   "source": [
    "name=[\"Javeria\",\"Noor\",\"Arsalan\",\"Sajal\",\"Hasnain\",\"Sajal\",\"Ahmad\"]\n",
    "for b_com_ke_bachy in name:\n",
    "    if b_com_ke_bachy==\"Sajal\":\n",
    "        print(\"Nikal diya\")\n",
    "        continue\n",
    "    print(b_com_ke_bachy)\n",
    "    "
   ]
  },
  {
   "cell_type": "code",
   "execution_count": 26,
   "id": "76d47976",
   "metadata": {},
   "outputs": [
    {
     "name": "stdout",
     "output_type": "stream",
     "text": [
      "Javeria\n",
      "Noor\n",
      "Arsalan\n",
      "Nikal diya\n"
     ]
    }
   ],
   "source": [
    "name=[\"Javeria\",\"Noor\",\"Arsalan\",\"Sajal\",\"Hasnain\",\"Sajal\",\"Ahmad\"]\n",
    "for b_com_ke_bachy in name:\n",
    "    if b_com_ke_bachy==\"Sajal\":\n",
    "        print(\"Nikal diya\")\n",
    "        break\n",
    "    print(b_com_ke_bachy)\n",
    "    "
   ]
  },
  {
   "cell_type": "code",
   "execution_count": null,
   "id": "5556e7af",
   "metadata": {},
   "outputs": [],
   "source": [
    "task=[\"class\",\"b,com\",\"I.com\",\"blockchain\",\"A.I\"]\n",
    "# First you have break in \"I.com\" string\n",
    "# secondly you have to continue with \"b.com\" string \n",
    "# if \"blockchain\" string found in a list print \"yes\""
   ]
  },
  {
   "cell_type": "code",
   "execution_count": 52,
   "id": "55e36b0d",
   "metadata": {},
   "outputs": [
    {
     "name": "stdout",
     "output_type": "stream",
     "text": [
      "class\n",
      "b.com\n"
     ]
    }
   ],
   "source": [
    "task=[\"class\",\"b.com\",\"I.com\",\"blockchain\",\"A.I\"]\n",
    "for data in task:\n",
    "    if data==\"I.com\":\n",
    "        break\n",
    "    print(data)"
   ]
  },
  {
   "cell_type": "code",
   "execution_count": 51,
   "id": "63d9c112",
   "metadata": {},
   "outputs": [
    {
     "name": "stdout",
     "output_type": "stream",
     "text": [
      "class\n",
      "I.com\n",
      "blockchain\n",
      "A.I\n"
     ]
    }
   ],
   "source": [
    "task=[\"class\",\"b.com\",\"I.com\",\"blockchain\",\"A.I\"]\n",
    "for data in task:\n",
    "    if data==\"b.com\":\n",
    "        continue\n",
    "    print(data)"
   ]
  },
  {
   "cell_type": "code",
   "execution_count": 50,
   "id": "accf3623",
   "metadata": {},
   "outputs": [
    {
     "name": "stdout",
     "output_type": "stream",
     "text": [
      "Yes\n"
     ]
    }
   ],
   "source": [
    "task=[\"class\",\"b.com\",\"I.com\",\"blockchain\",\"A.I\"]\n",
    "for classes in \"blockchain\":\n",
    "    print(\"Yes\")\n",
    "    break\n",
    "    "
   ]
  },
  {
   "cell_type": "code",
   "execution_count": 56,
   "id": "2ccccee4",
   "metadata": {},
   "outputs": [
    {
     "name": "stdout",
     "output_type": "stream",
     "text": [
      "0\n",
      "1\n",
      "2\n",
      "3\n",
      "4\n",
      "5\n"
     ]
    }
   ],
   "source": [
    "#for range()\n",
    "num=[12,5,9,36,2,1]\n",
    "for integers in range(len(num)):\n",
    "    print(integers)\n",
    "    \n"
   ]
  },
  {
   "cell_type": "code",
   "execution_count": 17,
   "id": "cf90c698",
   "metadata": {},
   "outputs": [
    {
     "name": "stdout",
     "output_type": "stream",
     "text": [
      "13.44\n",
      "454\n",
      "54\n",
      "543\n",
      "4543\n",
      "33\n",
      "3534\n"
     ]
    }
   ],
   "source": [
    "data=[13.44,666.66,454,5454,54,34,543,33,4543,345,33,2223,3534]\n",
    "n=len(data)\n",
    "for x in range(n):\n",
    "    if x%2==0:\n",
    "        print(data[x])"
   ]
  },
  {
   "cell_type": "code",
   "execution_count": 59,
   "id": "a7bbda7f",
   "metadata": {},
   "outputs": [
    {
     "name": "stdout",
     "output_type": "stream",
     "text": [
      "Enter any number:140\n",
      "0\n",
      "14\n",
      "28\n",
      "42\n",
      "56\n",
      "70\n",
      "84\n",
      "98\n",
      "112\n",
      "126\n",
      "140\n"
     ]
    }
   ],
   "source": [
    "user_se_input_lety_hain=int(input(\"Enter any number:\"))\n",
    "for integers in range(0,user_se_input_lety_hain+1,14):\n",
    "    print(integers)\n",
    "    "
   ]
  },
  {
   "cell_type": "code",
   "execution_count": 61,
   "id": "9a186859",
   "metadata": {},
   "outputs": [
    {
     "name": "stdout",
     "output_type": "stream",
     "text": [
      "Enter any number:30\n",
      "0\n",
      "3\n",
      "6\n",
      "9\n",
      "12\n",
      "15\n",
      "18\n",
      "21\n",
      "24\n",
      "27\n",
      "30\n"
     ]
    }
   ],
   "source": [
    "# you have to ask a user to enter number and step upto 3 number\n",
    "user_se_input_lety_hain=int(input(\"Enter any number:\"))\n",
    "for integers in range(0,user_se_input_lety_hain+1,3):\n",
    "    print(integers)\n",
    "    "
   ]
  },
  {
   "cell_type": "code",
   "execution_count": 97,
   "id": "697802f2",
   "metadata": {},
   "outputs": [
    {
     "name": "stdout",
     "output_type": "stream",
     "text": [
      "Enter any number:20\n",
      "Enter any step:2\n",
      "0\n",
      "2\n",
      "4\n",
      "6\n",
      "8\n",
      "10\n",
      "12\n",
      "14\n",
      "16\n",
      "18\n",
      "20\n"
     ]
    }
   ],
   "source": [
    "# you have to ask a user to enter number and also ask user to enter step\n",
    "user_se_input_lety_hain=int(input(\"Enter any number:\"))\n",
    "user_se_input_lety_hain_1=int(input(\"Enter any step:\"))\n",
    "for integers in range(0,user_se_input_lety_hain+1,user_se_input_lety_hain_1):\n",
    "    print(integers)\n",
    "    "
   ]
  },
  {
   "cell_type": "code",
   "execution_count": 102,
   "id": "477e9885",
   "metadata": {},
   "outputs": [
    {
     "name": "stdout",
     "output_type": "stream",
     "text": [
      "enter your name:mahnoor\n",
      "enter your name:sajal\n",
      "enter your name:bs karen\n",
      "thek hai g\n"
     ]
    },
    {
     "ename": "KeyboardInterrupt",
     "evalue": "Interrupted by user",
     "output_type": "error",
     "traceback": [
      "\u001b[1;31m---------------------------------------------------------------------------\u001b[0m",
      "\u001b[1;31mKeyboardInterrupt\u001b[0m                         Traceback (most recent call last)",
      "\u001b[1;32mC:\\Users\\HPUSER~1\\AppData\\Local\\Temp/ipykernel_16688/401272456.py\u001b[0m in \u001b[0;36m<module>\u001b[1;34m\u001b[0m\n\u001b[0;32m      1\u001b[0m \u001b[1;32mwhile\u001b[0m \u001b[1;32mTrue\u001b[0m\u001b[1;33m:\u001b[0m\u001b[1;33m\u001b[0m\u001b[1;33m\u001b[0m\u001b[0m\n\u001b[1;32m----> 2\u001b[1;33m     \u001b[0mname\u001b[0m\u001b[1;33m=\u001b[0m\u001b[0minput\u001b[0m\u001b[1;33m(\u001b[0m\u001b[1;34m\"enter your name:\"\u001b[0m\u001b[1;33m)\u001b[0m\u001b[1;33m\u001b[0m\u001b[1;33m\u001b[0m\u001b[0m\n\u001b[0m\u001b[0;32m      3\u001b[0m     \u001b[1;32mfor\u001b[0m \u001b[0mi\u001b[0m \u001b[1;32min\u001b[0m \u001b[0mname\u001b[0m\u001b[1;33m:\u001b[0m\u001b[1;33m\u001b[0m\u001b[1;33m\u001b[0m\u001b[0m\n\u001b[0;32m      4\u001b[0m         \u001b[1;32mif\u001b[0m \u001b[0mname\u001b[0m\u001b[1;33m==\u001b[0m\u001b[1;34m\"bs karen\"\u001b[0m\u001b[1;33m:\u001b[0m\u001b[1;33m\u001b[0m\u001b[1;33m\u001b[0m\u001b[0m\n\u001b[0;32m      5\u001b[0m             \u001b[0mprint\u001b[0m\u001b[1;33m(\u001b[0m\u001b[1;34m\"thek hai g\"\u001b[0m\u001b[1;33m)\u001b[0m\u001b[1;33m\u001b[0m\u001b[1;33m\u001b[0m\u001b[0m\n",
      "\u001b[1;32mE:\\anaconda3\\lib\\site-packages\\ipykernel\\kernelbase.py\u001b[0m in \u001b[0;36mraw_input\u001b[1;34m(self, prompt)\u001b[0m\n\u001b[0;32m   1004\u001b[0m                 \u001b[1;34m\"raw_input was called, but this frontend does not support input requests.\"\u001b[0m\u001b[1;33m\u001b[0m\u001b[1;33m\u001b[0m\u001b[0m\n\u001b[0;32m   1005\u001b[0m             )\n\u001b[1;32m-> 1006\u001b[1;33m         return self._input_request(\n\u001b[0m\u001b[0;32m   1007\u001b[0m             \u001b[0mstr\u001b[0m\u001b[1;33m(\u001b[0m\u001b[0mprompt\u001b[0m\u001b[1;33m)\u001b[0m\u001b[1;33m,\u001b[0m\u001b[1;33m\u001b[0m\u001b[1;33m\u001b[0m\u001b[0m\n\u001b[0;32m   1008\u001b[0m             \u001b[0mself\u001b[0m\u001b[1;33m.\u001b[0m\u001b[0m_parent_ident\u001b[0m\u001b[1;33m[\u001b[0m\u001b[1;34m\"shell\"\u001b[0m\u001b[1;33m]\u001b[0m\u001b[1;33m,\u001b[0m\u001b[1;33m\u001b[0m\u001b[1;33m\u001b[0m\u001b[0m\n",
      "\u001b[1;32mE:\\anaconda3\\lib\\site-packages\\ipykernel\\kernelbase.py\u001b[0m in \u001b[0;36m_input_request\u001b[1;34m(self, prompt, ident, parent, password)\u001b[0m\n\u001b[0;32m   1049\u001b[0m             \u001b[1;32mexcept\u001b[0m \u001b[0mKeyboardInterrupt\u001b[0m\u001b[1;33m:\u001b[0m\u001b[1;33m\u001b[0m\u001b[1;33m\u001b[0m\u001b[0m\n\u001b[0;32m   1050\u001b[0m                 \u001b[1;31m# re-raise KeyboardInterrupt, to truncate traceback\u001b[0m\u001b[1;33m\u001b[0m\u001b[1;33m\u001b[0m\u001b[0m\n\u001b[1;32m-> 1051\u001b[1;33m                 \u001b[1;32mraise\u001b[0m \u001b[0mKeyboardInterrupt\u001b[0m\u001b[1;33m(\u001b[0m\u001b[1;34m\"Interrupted by user\"\u001b[0m\u001b[1;33m)\u001b[0m \u001b[1;32mfrom\u001b[0m \u001b[1;32mNone\u001b[0m\u001b[1;33m\u001b[0m\u001b[1;33m\u001b[0m\u001b[0m\n\u001b[0m\u001b[0;32m   1052\u001b[0m             \u001b[1;32mexcept\u001b[0m \u001b[0mException\u001b[0m\u001b[1;33m:\u001b[0m\u001b[1;33m\u001b[0m\u001b[1;33m\u001b[0m\u001b[0m\n\u001b[0;32m   1053\u001b[0m                 \u001b[0mself\u001b[0m\u001b[1;33m.\u001b[0m\u001b[0mlog\u001b[0m\u001b[1;33m.\u001b[0m\u001b[0mwarning\u001b[0m\u001b[1;33m(\u001b[0m\u001b[1;34m\"Invalid Message:\"\u001b[0m\u001b[1;33m,\u001b[0m \u001b[0mexc_info\u001b[0m\u001b[1;33m=\u001b[0m\u001b[1;32mTrue\u001b[0m\u001b[1;33m)\u001b[0m\u001b[1;33m\u001b[0m\u001b[1;33m\u001b[0m\u001b[0m\n",
      "\u001b[1;31mKeyboardInterrupt\u001b[0m: Interrupted by user"
     ]
    }
   ],
   "source": [
    "while True:\n",
    "    name=input(\"enter your name:\")\n",
    "    for i in name:\n",
    "        if name==\"bs karen\":\n",
    "            print(\"thek hai g\")\n",
    "            break\n",
    "        "
   ]
  },
  {
   "cell_type": "code",
   "execution_count": 107,
   "id": "d0c34434",
   "metadata": {},
   "outputs": [
    {
     "name": "stdout",
     "output_type": "stream",
     "text": [
      "enter your namesajal\n",
      "enter your number:100\n",
      "congrats! sajal you are pass with A+\n",
      "enter your namemahnoor\n",
      "enter your number:0.0\n",
      "Thank you! Come again next time\n"
     ]
    }
   ],
   "source": [
    "while True:\n",
    "    name=input(\"enter your name\")\n",
    "    marks=float(input(\"enter your number:\"))\n",
    "    if marks==0.0:\n",
    "        print (\"Thank you! Come again next time\")\n",
    "        break\n",
    "    elif marks>=90 and marks<=100:\n",
    "            print(f\"congrats! {name} you are pass with A+\")\n",
    "    elif marks>=80 and marks<=90:\n",
    "        print(f\"congrats! {name} you are pass with A\")\n",
    "    elif marks>=60 and marks<=80:\n",
    "        print(f\"congrats! {name} you are pass with B\")    \n",
    "    elif marks>=40 and marks<=60:\n",
    "        print(f\"congrats! {name} you are pass with C\") \n",
    "    else:\n",
    "        print(f\"oops! {name} you are fail with F\")\n"
   ]
  },
  {
   "cell_type": "code",
   "execution_count": null,
   "id": "35bf0cbd",
   "metadata": {},
   "outputs": [],
   "source": [
    "#ask a user enter name,age,height,weight,married and unmarried\n",
    "# if age is greater than 40 and married and height 5.5 than you are selected\n",
    "# if age is less than 40 and height 5.7 than you are also selected\n",
    "# if age is less than 20 and height 5.3 than you are not selected"
   ]
  },
  {
   "cell_type": "code",
   "execution_count": 18,
   "id": "d8d97420",
   "metadata": {},
   "outputs": [
    {
     "name": "stdout",
     "output_type": "stream",
     "text": [
      "enter your name : sajal\n",
      "enter your age:40\n",
      "enter your height:5.5\n",
      "enter your weight:65\n",
      "enter your marital statusmarried\n",
      "you want to stop? Yes/Noyes\n",
      "marriage person is selected\n"
     ]
    }
   ],
   "source": [
    "name=input(\"enter your name : \")\n",
    "age=int(input(\"enter your age:\"))\n",
    "height=float(input(\"enter your height:\"))\n",
    "weight=int(input(\"enter your weight:\"))\n",
    "marital_status=input(\"enter your marital status\")\n",
    "if age>=40 and marital_status==\"married\" and height>=5.4 and height<=5.6:\n",
    "    print(\"marriage person is selected\")\n",
    "elif age<=40 and height>=4.9 and height<=5.3 and weight>=60 and weight<=70:\n",
    "    print(\"young person is selected\")\n",
    "elif age>=20 and height>=4.8 and weight>=50:\n",
    "    print(\"you are not selected\")\n",
    "        "
   ]
  },
  {
   "cell_type": "code",
   "execution_count": 20,
   "id": "18cdd6e7",
   "metadata": {},
   "outputs": [
    {
     "name": "stdout",
     "output_type": "stream",
     "text": [
      "1\n",
      "2\n",
      "3\n",
      "4\n",
      "5\n",
      "6\n",
      "7\n"
     ]
    }
   ],
   "source": [
    "a=[1,2,3,4,5,6,7]\n",
    "for har_aik in a:\n",
    "    print(har_aik)"
   ]
  },
  {
   "cell_type": "code",
   "execution_count": 21,
   "id": "3e0585f5",
   "metadata": {},
   "outputs": [],
   "source": [
    "a=[1,2,3,4,5,6,7]\n",
    "for har_aik in a:\n",
    "    pass"
   ]
  },
  {
   "cell_type": "code",
   "execution_count": 22,
   "id": "539d430e",
   "metadata": {},
   "outputs": [
    {
     "name": "stdout",
     "output_type": "stream",
     "text": [
      "1 2 3 4 5 6 7 "
     ]
    }
   ],
   "source": [
    "a=[1,2,3,4,5,6,7]\n",
    "for har_aik in a:\n",
    "    print(har_aik,end=\" \")"
   ]
  },
  {
   "cell_type": "code",
   "execution_count": 27,
   "id": "2f3a8328",
   "metadata": {},
   "outputs": [
    {
     "name": "stdout",
     "output_type": "stream",
     "text": [
      "[1, 2, 3, 4, 5, 6, 7]\n",
      "[1, 2, 3, 4, 5, 6, 7]\n"
     ]
    }
   ],
   "source": [
    "a=[1,2,3,4,5,6,7]\n",
    "class1=[]\n",
    "for har_aik in a:\n",
    "    class1.append(har_aik)\n",
    "print(class1)\n",
    "print(a)"
   ]
  },
  {
   "cell_type": "code",
   "execution_count": 45,
   "id": "099937fc",
   "metadata": {},
   "outputs": [],
   "source": [
    "#functions\n",
    "def my_fun(x): #x is argument\n",
    "    print(\"I am a new function\")\n",
    "    print(f\"Hello {x}\")\n",
    "    "
   ]
  },
  {
   "cell_type": "code",
   "execution_count": 46,
   "id": "668d2246",
   "metadata": {},
   "outputs": [
    {
     "name": "stdout",
     "output_type": "stream",
     "text": [
      "I am a new function\n",
      "Hello Friends\n",
      "I am a new function\n",
      "Hello Alishba\n"
     ]
    }
   ],
   "source": [
    "my_fun(\"Friends\")\n",
    "my_fun(\"Alishba\")"
   ]
  },
  {
   "cell_type": "code",
   "execution_count": 47,
   "id": "cbdc2897",
   "metadata": {},
   "outputs": [],
   "source": [
    "def double_parameter(x,y,z):\n",
    "    print(f\"Hi {x}, My name is {y} and my age is {z}\")"
   ]
  },
  {
   "cell_type": "code",
   "execution_count": 48,
   "id": "e7919b30",
   "metadata": {},
   "outputs": [
    {
     "name": "stdout",
     "output_type": "stream",
     "text": [
      "Hi Mahnoor, My name is Sajal and my age is 20\n"
     ]
    }
   ],
   "source": [
    "double_parameter(\"Mahnoor\",\"Sajal\",\"20\")"
   ]
  },
  {
   "cell_type": "code",
   "execution_count": 49,
   "id": "cd1920be",
   "metadata": {},
   "outputs": [],
   "source": [
    "def Hi_Sajalayy(Sajal):\n",
    "    print(Sajal+ \"Sajalayy\")\n",
    "    \n",
    "    \n",
    "    "
   ]
  },
  {
   "cell_type": "code",
   "execution_count": 50,
   "id": "67409e03",
   "metadata": {},
   "outputs": [
    {
     "name": "stdout",
     "output_type": "stream",
     "text": [
      "My Nick name is Sajalayy\n",
      "Family calls me Sajalayy\n",
      "My Friend calls me Sajalayy\n"
     ]
    }
   ],
   "source": [
    "Hi_Sajalayy(\"My Nick name is \")\n",
    "Hi_Sajalayy(\"Family calls me \")\n",
    "Hi_Sajalayy(\"My Friend calls me \")"
   ]
  },
  {
   "cell_type": "code",
   "execution_count": 61,
   "id": "2071ba71",
   "metadata": {},
   "outputs": [],
   "source": [
    "def Hi_Mahi(Mahi,Mahnoor,Commando):\n",
    "    print(Mahi + \"shokhi\")\n",
    "    print(Mahnoor + \"kamchor\")\n",
    "    print(Commando + \"Psycho\")"
   ]
  },
  {
   "cell_type": "code",
   "execution_count": 62,
   "id": "1d5bfda0",
   "metadata": {},
   "outputs": [
    {
     "name": "stdout",
     "output_type": "stream",
     "text": [
      "her nick name is shokhi\n",
      "Family calls her kamchor\n",
      "her Friends calls her Psycho\n"
     ]
    }
   ],
   "source": [
    "Hi_Mahi(\"her nick name is \",\"Family calls her \",\"her Friends calls her \")"
   ]
  },
  {
   "cell_type": "code",
   "execution_count": 68,
   "id": "29cf612c",
   "metadata": {},
   "outputs": [],
   "source": [
    "def Naya_Pakistan(Shehbaz_Sharif,Imran_Khan):\n",
    "    print(f\"Shehbaz sharif khta h:{Shehbaz_Sharif} Captain said:{Imran_Khan} \")\n",
    "    "
   ]
  },
  {
   "cell_type": "code",
   "execution_count": 69,
   "id": "82b7d20e",
   "metadata": {},
   "outputs": [
    {
     "name": "stdout",
     "output_type": "stream",
     "text": [
      "Shehbaz sharif khta h:Vote ko izzat do Captain said:Apny ghabrana nahi h \n"
     ]
    }
   ],
   "source": [
    "Naya_Pakistan(\"Vote ko izzat do\",\"Apny ghabrana nahi h\")"
   ]
  },
  {
   "cell_type": "code",
   "execution_count": 70,
   "id": "ad7706ab",
   "metadata": {},
   "outputs": [],
   "source": [
    "# make a new function pass 2 arguments and print it \n",
    "# make a new function pass atleast 3 arguments and add them\n",
    "# make aa new function called my_fun()"
   ]
  },
  {
   "cell_type": "code",
   "execution_count": 82,
   "id": "0880b83d",
   "metadata": {},
   "outputs": [],
   "source": [
    "def new_fun(x,y):\n",
    "    print(f\"Hello {x} and How are you {y}\")"
   ]
  },
  {
   "cell_type": "code",
   "execution_count": 84,
   "id": "4a4ed352",
   "metadata": {},
   "outputs": [
    {
     "name": "stdout",
     "output_type": "stream",
     "text": [
      "Hello sajal  and How are you  sis \n"
     ]
    }
   ],
   "source": [
    "new_fun(\"sajal \" , \" sis \")"
   ]
  },
  {
   "cell_type": "code",
   "execution_count": 91,
   "id": "343baa49",
   "metadata": {},
   "outputs": [],
   "source": [
    "def Miss_Mahnoor(x,y,z):\n",
    "    print(\"Her name is \" + x,\", and her hobby is \" + y ,\" and her skills is \" + z)"
   ]
  },
  {
   "cell_type": "code",
   "execution_count": 92,
   "id": "732d5eee",
   "metadata": {},
   "outputs": [
    {
     "name": "stdout",
     "output_type": "stream",
     "text": [
      "Her name is mahnoor , and her hobby is reading  and her skills is understanding concepts\n"
     ]
    }
   ],
   "source": [
    "Miss_Mahnoor(\"mahnoor\",\"reading\",\"understanding concepts\")"
   ]
  },
  {
   "cell_type": "code",
   "execution_count": 85,
   "id": "e3351c29",
   "metadata": {},
   "outputs": [],
   "source": [
    "def sum_val(x,y):\n",
    "    return x+y"
   ]
  },
  {
   "cell_type": "code",
   "execution_count": 86,
   "id": "adaeda94",
   "metadata": {},
   "outputs": [
    {
     "data": {
      "text/plain": [
       "89"
      ]
     },
     "execution_count": 86,
     "metadata": {},
     "output_type": "execute_result"
    }
   ],
   "source": [
    "sum_val(53,36)"
   ]
  },
  {
   "cell_type": "code",
   "execution_count": 8,
   "id": "779b801d",
   "metadata": {},
   "outputs": [],
   "source": [
    "def my_fun(*smart):\n",
    "    return f\"The smart student in my class is \" + smart[3]"
   ]
  },
  {
   "cell_type": "code",
   "execution_count": 9,
   "id": "f6a28280",
   "metadata": {},
   "outputs": [
    {
     "data": {
      "text/plain": [
       "'The smart student in my class is Sajal'"
      ]
     },
     "execution_count": 9,
     "metadata": {},
     "output_type": "execute_result"
    }
   ],
   "source": [
    "my_fun(\"Javeria\",\"Rubab\",\"Sumbal\",\"Sajal\",\"Ejaz\",\"Akash\",\"Hasnain\",\"Arslan\")"
   ]
  },
  {
   "cell_type": "code",
   "execution_count": 10,
   "id": "a03cc601",
   "metadata": {},
   "outputs": [],
   "source": [
    "def my_func(): #how to create a function\n",
    "    pass"
   ]
  },
  {
   "cell_type": "code",
   "execution_count": 12,
   "id": "6d37e7c7",
   "metadata": {},
   "outputs": [],
   "source": [
    "# how to call a function \n",
    "my_func()"
   ]
  },
  {
   "cell_type": "code",
   "execution_count": 13,
   "id": "f543b599",
   "metadata": {},
   "outputs": [],
   "source": [
    "#positional arguments\n",
    "#keyword arguments"
   ]
  },
  {
   "cell_type": "code",
   "execution_count": 16,
   "id": "ac836e11",
   "metadata": {},
   "outputs": [],
   "source": [
    "def my_new(x,y):\n",
    "    return f\"my first day at {x} was so {y}\""
   ]
  },
  {
   "cell_type": "code",
   "execution_count": 18,
   "id": "8e4863af",
   "metadata": {},
   "outputs": [
    {
     "data": {
      "text/plain": [
       "'my first day at College was so Good'"
      ]
     },
     "execution_count": 18,
     "metadata": {},
     "output_type": "execute_result"
    }
   ],
   "source": [
    "my_new(y=\"Good\",x=\"College\")"
   ]
  },
  {
   "cell_type": "code",
   "execution_count": 19,
   "id": "914e6f9b",
   "metadata": {},
   "outputs": [
    {
     "name": "stdout",
     "output_type": "stream",
     "text": [
      "The youngest child is Maha\n"
     ]
    }
   ],
   "source": [
    "def my_function(child3,child2,child1):\n",
    "    print(\"The youngest child is \" + child3)\n",
    "    \n",
    "my_function(child1=\"Sajal\", child2=\"Mahnoor\", child3=\"Maha\")"
   ]
  },
  {
   "cell_type": "code",
   "execution_count": 20,
   "id": "aa477940",
   "metadata": {},
   "outputs": [
    {
     "data": {
      "text/plain": [
       "'The youngest child is Maha'"
      ]
     },
     "execution_count": 20,
     "metadata": {},
     "output_type": "execute_result"
    }
   ],
   "source": [
    "def my_function(child3,child2,child1):\n",
    "    return f\"The youngest child is {child3}\"\n",
    "    \n",
    "my_function(child1=\"Sajal\", child2=\"Mahnoor\", child3=\"Maha\")"
   ]
  },
  {
   "cell_type": "code",
   "execution_count": 23,
   "id": "53a3847a",
   "metadata": {},
   "outputs": [],
   "source": [
    "def sum_value(x,y):\n",
    "    return x+y"
   ]
  },
  {
   "cell_type": "code",
   "execution_count": 24,
   "id": "683df389",
   "metadata": {},
   "outputs": [
    {
     "data": {
      "text/plain": [
       "72"
      ]
     },
     "execution_count": 24,
     "metadata": {},
     "output_type": "execute_result"
    }
   ],
   "source": [
    "sum_value(6,66)"
   ]
  },
  {
   "cell_type": "code",
   "execution_count": 27,
   "id": "6a71be0b",
   "metadata": {},
   "outputs": [],
   "source": [
    "def sum_value(x):\n",
    "    return x**6"
   ]
  },
  {
   "cell_type": "code",
   "execution_count": 29,
   "id": "d86cd500",
   "metadata": {},
   "outputs": [
    {
     "name": "stdout",
     "output_type": "stream",
     "text": [
      "64\n",
      "531441\n"
     ]
    }
   ],
   "source": [
    "print(sum_value(2))\n",
    "print(sum_value(9))\n"
   ]
  },
  {
   "cell_type": "code",
   "execution_count": 5,
   "id": "4ed45871",
   "metadata": {},
   "outputs": [],
   "source": [
    "# globally declare krna \n",
    "x=[12,36,12]\n",
    "def product(x):\n",
    "    print(\"The product of list is \" , x)"
   ]
  },
  {
   "cell_type": "code",
   "execution_count": 7,
   "id": "dfaebf27",
   "metadata": {},
   "outputs": [
    {
     "name": "stdout",
     "output_type": "stream",
     "text": [
      "The product of list is  [12, 36, 12]\n"
     ]
    }
   ],
   "source": [
    "product(x) "
   ]
  },
  {
   "cell_type": "code",
   "execution_count": 38,
   "id": "2bdab8e8",
   "metadata": {},
   "outputs": [
    {
     "name": "stdout",
     "output_type": "stream",
     "text": [
      "Enter  1st number: 34\n",
      "enter 2nd number: 4\n"
     ]
    }
   ],
   "source": [
    "x=int(input(\"Enter  1st number: \"))\n",
    "y=int(input(\"enter 2nd number: \"))\n",
    "def product(x,y):\n",
    "    print(\"The product of two num is: \",x*y)\n",
    "    print(\"The sum of two num is: \",x+y)\n",
    "    print(\"The remainder of two num is: \",x%y)\n",
    "    print(\"The square of two num is: \",x**y)"
   ]
  },
  {
   "cell_type": "code",
   "execution_count": 39,
   "id": "43b0d98d",
   "metadata": {},
   "outputs": [
    {
     "name": "stdout",
     "output_type": "stream",
     "text": [
      "The product of two num is:  136\n",
      "The sum of two num is:  38\n",
      "The remainder of two num is:  2\n",
      "The square of two num is:  1336336\n"
     ]
    }
   ],
   "source": [
    "product(x,y)"
   ]
  },
  {
   "cell_type": "code",
   "execution_count": 10,
   "id": "7e4dcb23",
   "metadata": {},
   "outputs": [
    {
     "name": "stdout",
     "output_type": "stream",
     "text": [
      "13.44\n",
      "666.66\n",
      "454\n",
      "5454\n",
      "54\n",
      "34\n",
      "543\n",
      "345\n",
      "33\n",
      "4543\n",
      "345\n",
      "33\n",
      "2223\n",
      "3534\n"
     ]
    }
   ],
   "source": [
    "data=[13.44,666.66,454,5454,54,34,543,345,33,4543,345,33,2223,3534]\n",
    "for num in data:\n",
    "    print(num)"
   ]
  },
  {
   "cell_type": "code",
   "execution_count": null,
   "id": "7f81f1fe",
   "metadata": {},
   "outputs": [],
   "source": []
  }
 ],
 "metadata": {
  "kernelspec": {
   "display_name": "Python 3 (ipykernel)",
   "language": "python",
   "name": "python3"
  },
  "language_info": {
   "codemirror_mode": {
    "name": "ipython",
    "version": 3
   },
   "file_extension": ".py",
   "mimetype": "text/x-python",
   "name": "python",
   "nbconvert_exporter": "python",
   "pygments_lexer": "ipython3",
   "version": "3.9.7"
  }
 },
 "nbformat": 4,
 "nbformat_minor": 5
}
