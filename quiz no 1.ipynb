{
 "cells": [
  {
   "cell_type": "markdown",
   "id": "7dfc40f1",
   "metadata": {},
   "source": [
    "#MCQS\n",
    "1= indexing ..\n",
    "2= yes ..\n",
    "3= append.pop ..\n",
    "4= dictionary ..\n",
    "5= break ..\n",
    "6= an infinite loop ..\n",
    "7= code reuseability ..\n",
    "marks: 10/10"
   ]
  },
  {
   "cell_type": "code",
   "execution_count": 2,
   "id": "e3d98e89",
   "metadata": {},
   "outputs": [
    {
     "name": "stdout",
     "output_type": "stream",
     "text": [
      "['tayyaba', 'fatima', 'hira']\n",
      "['abdullah', 'waheed', 'basim']\n"
     ]
    }
   ],
   "source": [
    "# question no 5\n",
    "names=[\"abdullah\",\"tayyaba\",\"waheed\",\"fatima\",\"basim\",\"hira\"]\n",
    "position=1\n",
    "male=[]\n",
    "female=[]\n",
    "for name in names:\n",
    "        if position%2==0:\n",
    "            female.append(name)\n",
    "        else:\n",
    "            male.append(name)\n",
    "        \n",
    "        position = position + 1\n",
    "\n",
    "print(female)\n",
    "print(male)\n",
    "\n"
   ]
  },
  {
   "cell_type": "code",
   "execution_count": 19,
   "id": "11ff9f65",
   "metadata": {},
   "outputs": [
    {
     "name": "stdout",
     "output_type": "stream",
     "text": [
      "enter your marks:60\n",
      "passed\n"
     ]
    }
   ],
   "source": [
    "# question no 3\n",
    "marks = int(input(\"enter your marks:\"))\n",
    "if marks>=50:\n",
    "    print(\"passed\")\n",
    "else:\n",
    "    print(\"failed\")"
   ]
  },
  {
   "cell_type": "code",
   "execution_count": 18,
   "id": "37bb46a9",
   "metadata": {},
   "outputs": [
    {
     "name": "stdout",
     "output_type": "stream",
     "text": [
      "enter your number: 5\n",
      "your number is:  5.0\n",
      "11.023\n"
     ]
    }
   ],
   "source": [
    "# question no 2\n",
    "kilogram=float(input(\"enter your number: \"))\n",
    "print(\"your number is: \", kilogram)\n",
    "pound=kilogram*2.2046\n",
    "print(pound)"
   ]
  },
  {
   "cell_type": "code",
   "execution_count": 23,
   "id": "dc28332a",
   "metadata": {},
   "outputs": [
    {
     "name": "stdout",
     "output_type": "stream",
     "text": [
      "enter any name: sara\n",
      "enter your weight: 103\n",
      "enter your height: 4.3\n",
      "enter your BMI: 27\n",
      "enter your marital status: married\n",
      "married person is selected\n"
     ]
    }
   ],
   "source": [
    "# question no 4\n",
    "name=input(\"enter any name: \")\n",
    "weight=int(input(\"enter your weight: \"))\n",
    "height=float(input(\"enter your height: \"))\n",
    "BMI=int(input(\"enter your BMI: \"))\n",
    "marital_status=input(\"enter your marital status: \")\n",
    "\n",
    "condition_1 = (marital_status==\"unmarried\" and (weight>=50 and weight<=100) and (BMI>10 and BMI<20) and (height>5))\n",
    "condition_2 = ((marital_status==\"married\" and weight>=50 and BMI>10)\n",
    "\n",
    "if condition_1:\n",
    "    print(\"young person is selected\")\n",
    "elif condition_2:\n",
    "    print(\"married person is selected\")\n",
    "else:\n",
    "    print(\"not selected\")\n",
    "\n",
    "    "
   ]
  },
  {
   "cell_type": "code",
   "execution_count": 22,
   "id": "86b5cfa5",
   "metadata": {},
   "outputs": [
    {
     "name": "stdout",
     "output_type": "stream",
     "text": [
      "studying learn and\n"
     ]
    }
   ],
   "source": [
    "#question no 1\n",
    "a=\"I am studying hard to learn AI and BD\"\n",
    "a_1=a[5:13] + a[21:27] + a[30:34]\n",
    "print(a_1)"
   ]
  },
  {
   "cell_type": "code",
   "execution_count": 4,
   "id": "54add337",
   "metadata": {},
   "outputs": [
    {
     "name": "stdout",
     "output_type": "stream",
     "text": [
      "['ahmad', 'bilal']\n",
      "2\n",
      "['hassan', 'multan', 'goreyo', 'yasmin', 'tokeyo', 'fatima']\n",
      "6\n"
     ]
    }
   ],
   "source": [
    "# question no 6\n",
    "#We have a set of strings {\"hasan\", \"ahmad\", \"bilal\", \"goreyo\", \"tokeyo\", \"multan\", \"fatima\", \"yasmin\"}. We want to group\n",
    "#such strings into a separate list and show that have equal number of characters in them. Also we want to show the number\n",
    "#of similar length strings on the screen with their length.Example output may look like this:\n",
    "#3 strings of length 9 are found The strings are: [ a list of such strings ]\n",
    "\n",
    "data = {\"hassan\",\"ahmad\",\"bilal\",\"goreyo\",\"tokeyo\",\"multan\",\"fatima\",\"yasmin\"}\n",
    "data1 = []\n",
    "similar = []\n",
    "count = 0\n",
    "count1 = 0\n",
    "for name in data:\n",
    "    if len(name) == 5 :\n",
    "        data1.append(name)\n",
    "        count = count+1\n",
    "    elif len(name) == 6:\n",
    "        similar.append(name)\n",
    "        count1 = count1+1\n",
    "        \n",
    "print(data1)\n",
    "print(count)\n",
    "print(similar)\n",
    "print(count1)\n",
    "\n",
    "    \n",
    " "
   ]
  },
  {
   "cell_type": "code",
   "execution_count": 7,
   "id": "a04a1cfc",
   "metadata": {},
   "outputs": [
    {
     "name": "stdout",
     "output_type": "stream",
     "text": [
      "6 : strings of size: 6 are found\n",
      "The strings are:  ['multan', 'fatima', 'tokeyo', 'hassan', 'goreyo', 'yasmin']\n",
      "1 : strings of size: 5 are found\n",
      "The strings are:  ['bilal']\n",
      "1 : strings of size: 18 are found\n",
      "The strings are:  ['aaaaaaaaaaaaaaaaaa']\n",
      "1 : strings of size: 8 are found\n",
      "The strings are:  ['ahm777ad']\n"
     ]
    }
   ],
   "source": [
    "set1 = {\"hassan\",\"ahm777ad\",\"bilal\",\"goreyo\",\"tokeyo\",\"multan\",\"fatima\",\"yasmin\",\"aaaaaaaaaaaaaaaaaa\"} \n",
    "length_done = set()\n",
    "for name in set1:\n",
    "    if len(name) in length_done:\n",
    "        continue\n",
    "    else:\n",
    "        length_done = length_done.union({len(name)})\n",
    "        \n",
    "    similar = []\n",
    "    for n in set1:\n",
    "        if len(name) == len(n):\n",
    "            similar.append(n)\n",
    "            \n",
    "    print(f\"{len(similar)} : strings of size: {len(similar[0])} are found\")\n",
    "    print(\"The strings are: \",similar)"
   ]
  },
  {
   "cell_type": "code",
   "execution_count": 19,
   "id": "c33d4785",
   "metadata": {},
   "outputs": [
    {
     "name": "stdout",
     "output_type": "stream",
     "text": [
      "3 strings of length 5 are found. Strings are \n",
      "['hasan', 'ahmad', 'bilal']\n",
      "5 strings of length 6 are found. Strings are \n",
      "['goreyo', 'tokeyo', 'multan', 'fatima', 'yasmin']\n"
     ]
    }
   ],
   "source": [
    "# question no 6\n",
    "# We have a set of strings {\"hasan\", \"ahmad\", \"bilal\", \"goreyo\", \"tokeyo\", \"multan\", \"fatima\", \"yasmin\"}. We want to group\n",
    "# such strings into a separate list and show that have equal number of characters in them. Also we want to show the number\n",
    "# of similar length strings on the screen with their length.Example output may look like this:\n",
    "# 3 strings of length 9 are found The strings are: [ a list of such strings ]\n",
    "\n",
    "str_list = [\"hasan\", \"ahmad\", \"bilal\", \"goreyo\", \"tokeyo\", \"multan\", \"fatima\", \"yasmin\"]\n",
    "checked = list()\n",
    "\n",
    "for name in str_list:\n",
    "\n",
    "    if len(name) in checked:\n",
    "        continue\n",
    "    \n",
    "    similar_strings = list()\n",
    "    \n",
    "    for item in str_list:\n",
    "        if len(item) == len(name):\n",
    "            similar_strings.append(item)\n",
    "                \n",
    "    print(f\"{len(similar_strings)} strings of length {len(similar_strings[0])} are found. Strings are \\n{similar_strings}\" )\n",
    "    \n",
    "    checked.append(len(name))\n",
    "    \n"
   ]
  },
  {
   "cell_type": "code",
   "execution_count": 2,
   "id": "e71dacb3",
   "metadata": {},
   "outputs": [
    {
     "ename": "KeyboardInterrupt",
     "evalue": "Interrupted by user",
     "output_type": "error",
     "traceback": [
      "\u001b[1;31m---------------------------------------------------------------------------\u001b[0m",
      "\u001b[1;31mKeyboardInterrupt\u001b[0m                         Traceback (most recent call last)",
      "\u001b[1;32mC:\\Users\\HPUSER~1\\AppData\\Local\\Temp/ipykernel_13132/2883382564.py\u001b[0m in \u001b[0;36m<module>\u001b[1;34m\u001b[0m\n\u001b[0;32m      4\u001b[0m \u001b[1;31m#particular subject against the provided roll-number.\u001b[0m\u001b[1;33m\u001b[0m\u001b[1;33m\u001b[0m\u001b[0m\n\u001b[0;32m      5\u001b[0m \u001b[1;32mwhile\u001b[0m \u001b[1;32mTrue\u001b[0m\u001b[1;33m:\u001b[0m\u001b[1;33m\u001b[0m\u001b[1;33m\u001b[0m\u001b[0m\n\u001b[1;32m----> 6\u001b[1;33m     \u001b[0mchoice\u001b[0m \u001b[1;33m=\u001b[0m \u001b[0minput\u001b[0m\u001b[1;33m(\u001b[0m\u001b[1;34m\"press 1 for data enter and 2 for retrival or done for exit:\"\u001b[0m\u001b[1;33m)\u001b[0m\u001b[1;33m\u001b[0m\u001b[1;33m\u001b[0m\u001b[0m\n\u001b[0m\u001b[0;32m      7\u001b[0m     \u001b[1;32mif\u001b[0m \u001b[0mchoice\u001b[0m \u001b[1;33m==\u001b[0m \u001b[1;34m\"1\"\u001b[0m\u001b[1;33m:\u001b[0m\u001b[1;33m\u001b[0m\u001b[1;33m\u001b[0m\u001b[0m\n\u001b[0;32m      8\u001b[0m         \u001b[0mroll_num\u001b[0m \u001b[1;33m=\u001b[0m \u001b[0minput\u001b[0m\u001b[1;33m(\u001b[0m\u001b[1;34m\"enter roll number:\"\u001b[0m\u001b[1;33m)\u001b[0m\u001b[1;33m\u001b[0m\u001b[1;33m\u001b[0m\u001b[0m\n",
      "\u001b[1;32mE:\\anaconda3\\lib\\site-packages\\ipykernel\\kernelbase.py\u001b[0m in \u001b[0;36mraw_input\u001b[1;34m(self, prompt)\u001b[0m\n\u001b[0;32m   1004\u001b[0m                 \u001b[1;34m\"raw_input was called, but this frontend does not support input requests.\"\u001b[0m\u001b[1;33m\u001b[0m\u001b[1;33m\u001b[0m\u001b[0m\n\u001b[0;32m   1005\u001b[0m             )\n\u001b[1;32m-> 1006\u001b[1;33m         return self._input_request(\n\u001b[0m\u001b[0;32m   1007\u001b[0m             \u001b[0mstr\u001b[0m\u001b[1;33m(\u001b[0m\u001b[0mprompt\u001b[0m\u001b[1;33m)\u001b[0m\u001b[1;33m,\u001b[0m\u001b[1;33m\u001b[0m\u001b[1;33m\u001b[0m\u001b[0m\n\u001b[0;32m   1008\u001b[0m             \u001b[0mself\u001b[0m\u001b[1;33m.\u001b[0m\u001b[0m_parent_ident\u001b[0m\u001b[1;33m[\u001b[0m\u001b[1;34m\"shell\"\u001b[0m\u001b[1;33m]\u001b[0m\u001b[1;33m,\u001b[0m\u001b[1;33m\u001b[0m\u001b[1;33m\u001b[0m\u001b[0m\n",
      "\u001b[1;32mE:\\anaconda3\\lib\\site-packages\\ipykernel\\kernelbase.py\u001b[0m in \u001b[0;36m_input_request\u001b[1;34m(self, prompt, ident, parent, password)\u001b[0m\n\u001b[0;32m   1049\u001b[0m             \u001b[1;32mexcept\u001b[0m \u001b[0mKeyboardInterrupt\u001b[0m\u001b[1;33m:\u001b[0m\u001b[1;33m\u001b[0m\u001b[1;33m\u001b[0m\u001b[0m\n\u001b[0;32m   1050\u001b[0m                 \u001b[1;31m# re-raise KeyboardInterrupt, to truncate traceback\u001b[0m\u001b[1;33m\u001b[0m\u001b[1;33m\u001b[0m\u001b[0m\n\u001b[1;32m-> 1051\u001b[1;33m                 \u001b[1;32mraise\u001b[0m \u001b[0mKeyboardInterrupt\u001b[0m\u001b[1;33m(\u001b[0m\u001b[1;34m\"Interrupted by user\"\u001b[0m\u001b[1;33m)\u001b[0m \u001b[1;32mfrom\u001b[0m \u001b[1;32mNone\u001b[0m\u001b[1;33m\u001b[0m\u001b[1;33m\u001b[0m\u001b[0m\n\u001b[0m\u001b[0;32m   1052\u001b[0m             \u001b[1;32mexcept\u001b[0m \u001b[0mException\u001b[0m\u001b[1;33m:\u001b[0m\u001b[1;33m\u001b[0m\u001b[1;33m\u001b[0m\u001b[0m\n\u001b[0;32m   1053\u001b[0m                 \u001b[0mself\u001b[0m\u001b[1;33m.\u001b[0m\u001b[0mlog\u001b[0m\u001b[1;33m.\u001b[0m\u001b[0mwarning\u001b[0m\u001b[1;33m(\u001b[0m\u001b[1;34m\"Invalid Message:\"\u001b[0m\u001b[1;33m,\u001b[0m \u001b[0mexc_info\u001b[0m\u001b[1;33m=\u001b[0m\u001b[1;32mTrue\u001b[0m\u001b[1;33m)\u001b[0m\u001b[1;33m\u001b[0m\u001b[1;33m\u001b[0m\u001b[0m\n",
      "\u001b[1;31mKeyboardInterrupt\u001b[0m: Interrupted by user"
     ]
    }
   ],
   "source": [
    "#question no 7\n",
    "#Make a program that takes roll-numbers of students alongwith their marks in 3 subjects: Urdu, English, and Python and\n",
    "#saves their details in a file. Then it reads the files and let the user know about the marks of the student in a \n",
    "#particular subject against the provided roll-number.\n",
    "while True:\n",
    "    choice = input(\"press 1 for data enter and 2 for retrival or done for exit:\")\n",
    "    if choice == \"1\":\n",
    "        roll_num = input(\"enter roll number:\")\n",
    "        urdu = input(\"enter urdu marks:\")\n",
    "        english = input(\"enter english marks:\")\n",
    "        python = input(\"enter python marks:\")\n",
    "        record = {roll_num:{\"urdu\":urdu,\"english\":english,\"python\":python}}\n",
    "        file = open(\"data12.txt\",\"a\",encoding=\"utf-8\")\n",
    "        file.write(str(record) + \"\\n\")\n",
    "        file.close()\n",
    " \n",
    "    elif choice == \"done\":\n",
    "        break\n",
    "    \n",
    "    elif choice == \"2\":\n",
    "        \n",
    "        file = open('data12.txt',\"r\", encoding='utf-8')\n",
    "        data = file.readlines()\n",
    "        file.close()\n",
    "        \n",
    "        frnd_roll_num = input(\"please enter the roll num of your friend whose data you woul like to see:\")\n",
    "        for line in data:\n",
    "            line = eval(line)\n",
    "            if frnd_roll_num in line.keys():\n",
    "                print(line.values())\n",
    "            else:\n",
    "                print(\"wrong input\")\n",
    "    \n",
    "\n",
    "\n",
    "\n"
   ]
  },
  {
   "cell_type": "code",
   "execution_count": null,
   "id": "62111dbe",
   "metadata": {},
   "outputs": [],
   "source": []
  }
 ],
 "metadata": {
  "kernelspec": {
   "display_name": "Python 3 (ipykernel)",
   "language": "python",
   "name": "python3"
  },
  "language_info": {
   "codemirror_mode": {
    "name": "ipython",
    "version": 3
   },
   "file_extension": ".py",
   "mimetype": "text/x-python",
   "name": "python",
   "nbconvert_exporter": "python",
   "pygments_lexer": "ipython3",
   "version": "3.9.7"
  }
 },
 "nbformat": 4,
 "nbformat_minor": 5
}
