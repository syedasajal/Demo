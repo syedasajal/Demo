{
 "cells": [
  {
   "cell_type": "code",
   "execution_count": 1,
   "id": "7111810b",
   "metadata": {},
   "outputs": [],
   "source": [
    "# question no 3\n",
    "# create a file containing 5 lines about yourself and how much time you spend on python programmimg at home.Create a\n",
    "# function that takes a file as argument and make its copy under the name passed to it as argument.\n",
    "\n",
    "file = open(\"my_file\",\"w\",encoding = \"utf-8\")\n",
    "file.writelines(\"My name is syeda sajal.\\n\"\"I am 19 years old.\\n\"\"I have studied ICS.\\n\"\"Now I am studiying AI\\n\"\"I spend 3 hours daily at home.\\n\")\n",
    "file.close()\n",
    "\n"
   ]
  },
  {
   "cell_type": "code",
   "execution_count": 2,
   "id": "e5910998",
   "metadata": {},
   "outputs": [],
   "source": [
    "def function(filename):\n",
    "    file = open(filename,\"r\",encoding=\"utf-8\")\n",
    "    data = file.read()\n",
    "    file.close()\n",
    "    \n",
    "    file = open('copy_'+filename,'w',encoding='utf-8')\n",
    "    file.write(data)\n",
    "    file.close()"
   ]
  },
  {
   "cell_type": "code",
   "execution_count": 3,
   "id": "031ad481",
   "metadata": {},
   "outputs": [],
   "source": [
    "function(\"my_file\")"
   ]
  },
  {
   "cell_type": "code",
   "execution_count": null,
   "id": "e1157640",
   "metadata": {},
   "outputs": [],
   "source": []
  },
  {
   "cell_type": "code",
   "execution_count": null,
   "id": "3030d989",
   "metadata": {},
   "outputs": [],
   "source": []
  },
  {
   "cell_type": "code",
   "execution_count": null,
   "id": "6f58f3c0",
   "metadata": {},
   "outputs": [],
   "source": []
  },
  {
   "cell_type": "code",
   "execution_count": null,
   "id": "c7e14973",
   "metadata": {},
   "outputs": [],
   "source": []
  },
  {
   "cell_type": "code",
   "execution_count": null,
   "id": "82fd5f1f",
   "metadata": {},
   "outputs": [],
   "source": []
  }
 ],
 "metadata": {
  "kernelspec": {
   "display_name": "Python 3 (ipykernel)",
   "language": "python",
   "name": "python3"
  },
  "language_info": {
   "codemirror_mode": {
    "name": "ipython",
    "version": 3
   },
   "file_extension": ".py",
   "mimetype": "text/x-python",
   "name": "python",
   "nbconvert_exporter": "python",
   "pygments_lexer": "ipython3",
   "version": "3.9.7"
  }
 },
 "nbformat": 4,
 "nbformat_minor": 5
}
