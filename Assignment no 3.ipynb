{
 "cells": [
  {
   "cell_type": "code",
   "execution_count": null,
   "id": "5f6b3a7a",
   "metadata": {},
   "outputs": [],
   "source": [
    "# Function\n",
    "#question no 1\n",
    "#Q1: Write a function in Python to calculate and return the average of a given list of integers.\n",
    "\n",
    "num_list = [12,5,61,44,79]\n",
    "average = sum(num_list)/ len(num_list)\n",
    "print(\"the average is:\" , average)\n"
   ]
  },
  {
   "cell_type": "code",
   "execution_count": null,
   "id": "15c5085a",
   "metadata": {},
   "outputs": [],
   "source": [
    "# Function\n",
    "#question no 1\n",
    "#Q1: Write a function in Python to calculate and return the average of a given list of integers.\n",
    "\n",
    "def average(a):\n",
    "    result = sum(a)/len(a)\n",
    "    return result\n",
    "\n"
   ]
  },
  {
   "cell_type": "code",
   "execution_count": null,
   "id": "d37f6470",
   "metadata": {},
   "outputs": [],
   "source": [
    "numbers = [1,3,6,8]\n",
    "avg = average(numbers)\n",
    "print(avg)"
   ]
  },
  {
   "cell_type": "code",
   "execution_count": 1,
   "id": "ec275fe6",
   "metadata": {},
   "outputs": [],
   "source": [
    "def average_marks(marks):\n",
    "    sum_ = sum(marks)\n",
    "    length = len(marks)\n",
    "    average = sum_ / length\n",
    "    return average"
   ]
  },
  {
   "cell_type": "code",
   "execution_count": 2,
   "id": "0f6f6641",
   "metadata": {},
   "outputs": [
    {
     "name": "stdout",
     "output_type": "stream",
     "text": [
      "Your average is: 4.0\n"
     ]
    }
   ],
   "source": [
    "marks = [2,5,4,5]\n",
    "average = average_marks(marks)\n",
    "print(\"Your average is:\", average)"
   ]
  },
  {
   "cell_type": "code",
   "execution_count": null,
   "id": "e304bc02",
   "metadata": {},
   "outputs": [],
   "source": [
    "#question no 2\n",
    "#Q2: Write a function in Python called  isIn() to check for the existence of a substring within a string returning a\n",
    "#Boolean value.\n",
    "\n",
    "string = (\"i am a student\")\n",
    "substring = (\"i am a student\")\n",
    "if substring in string:\n",
    "    print(\"True\")\n",
    "else:\n",
    "    print(\"False\")"
   ]
  },
  {
   "cell_type": "code",
   "execution_count": null,
   "id": "1873dba4",
   "metadata": {},
   "outputs": [],
   "source": [
    "#question no 3\n",
    "#Q3: Write a function in Python to demonstrate keyword arguments.\n",
    "\n",
    "def my_func(x,y):\n",
    "    print(f\"Hello {x} and How are you {y}\")\n"
   ]
  },
  {
   "cell_type": "code",
   "execution_count": null,
   "id": "05d57ead",
   "metadata": {},
   "outputs": [],
   "source": [
    "my_func(\"Sajal\" , \"Sis\")"
   ]
  },
  {
   "cell_type": "code",
   "execution_count": 3,
   "id": "653973d6",
   "metadata": {},
   "outputs": [],
   "source": [
    "#question no 4\n",
    "#Q4: Write a script in Python to demonstrate nested functions.\n",
    "\n",
    "def outer_func(string,gender):\n",
    "    \n",
    "    def inner_func():\n",
    "        if gender==\"M\":\n",
    "            print(\"Mr  \" + string)\n",
    "        elif gender==\"F\":\n",
    "            print(\"Miss \" + string)\n",
    "        else:\n",
    "            print(\"wrong input\")\n",
    "            \n",
    "    return inner_func()\n"
   ]
  },
  {
   "cell_type": "code",
   "execution_count": 4,
   "id": "6b3f0f96",
   "metadata": {},
   "outputs": [
    {
     "name": "stdout",
     "output_type": "stream",
     "text": [
      "Miss sajal \n"
     ]
    }
   ],
   "source": [
    "outer_func(\"sajal \" , \"F\")"
   ]
  },
  {
   "cell_type": "code",
   "execution_count": 5,
   "id": "80cf64d7",
   "metadata": {},
   "outputs": [
    {
     "name": "stdout",
     "output_type": "stream",
     "text": [
      "Mr  Ali \n"
     ]
    }
   ],
   "source": [
    "outer_func(\"Ali \" ,  \"M\")"
   ]
  },
  {
   "cell_type": "code",
   "execution_count": 3,
   "id": "d2c8a372",
   "metadata": {},
   "outputs": [
    {
     "name": "stdout",
     "output_type": "stream",
     "text": [
      "press 1 for data enter and 2 for retrival or done for exit:2\n",
      "Please enter the cnic number of the friend whose data you would like to see: 1\n",
      "dict_values([{'name': 'a', 'DOB': '1', 'hobbies': 'a', 'occupation': 'a', 'residence_address': '1'}])\n",
      "press 1 for data enter and 2 for retrival or done for exit:2\n",
      "Please enter the cnic number of the friend whose data you would like to see: 2\n",
      "dict_values([{'name': 'a', 'DOB': '2', 'hobbies': 'a', 'occupation': 'a', 'residence_address': '2'}])\n",
      "press 1 for data enter and 2 for retrival or done for exit:done\n"
     ]
    }
   ],
   "source": [
    "# file handling\n",
    "#Q1: Accept details of all your friends from standard input (e.g. Name, Date of birth, Hobbies, occupation,\n",
    "# residence address) and store it in a binary file as individual records. Allow the user to list out all details \n",
    "# of a friend, given his/her name.\n",
    "while True:\n",
    "    choice = input(\"press 1 for data enter and 2 for retrival or done for exit:\")\n",
    "    if choice == \"1\":\n",
    "            cnic = input(\"enter cnic:\")\n",
    "            name = input(\"enter your name:\")\n",
    "            DOB = input(\"enter your DOB:\")\n",
    "            hobbies = input(\"enter your hobby:\")\n",
    "            occupation = input(\"enter your occupation:\")\n",
    "            residence_address = input(\"enter your residence address:\")\n",
    "            record = {cnic:{\"name\":name, \"DOB\" : DOB, \"hobbies\": hobbies, \"occupation\": occupation,\"residence_address\":residence_address}}\n",
    "            print('dict created')\n",
    "            file = open('data122.txt',\"a\", encoding='utf-8')\n",
    "            print('file created')\n",
    "            file.write(str(record)+ \"\\n\")\n",
    "            print('data saved')\n",
    "            file.close()\n",
    "            \n",
    "            \n",
    "    elif choice == \"done\":\n",
    "        break\n",
    "        \n",
    "        \n",
    "    elif choice == \"2\":\n",
    "        \n",
    "        file = open('data122.txt',\"r\", encoding='utf-8')\n",
    "        data = file.readlines()\n",
    "        file.close()\n",
    "\n",
    "\n",
    "        friend_cnic = input(\"Please enter the cnic number of the friend whose data you would like to see: \")\n",
    "        for line in data:\n",
    "            line = eval(line)\n",
    "            if friend_cnic in line.keys():\n",
    "                print(line.values())\n",
    "            else:\n",
    "                print(\"wrong input\")\n",
    "                \n",
    "        \n",
    "        \n"
   ]
  },
  {
   "cell_type": "code",
   "execution_count": null,
   "id": "6212e0fd",
   "metadata": {},
   "outputs": [],
   "source": [
    "#question no 2\n",
    "#Q2:Create a text file with content as a short summary highlighting your profile and the interesting events that\n",
    "#took place in your lifetime.Write a Python program that lists out all repetitive words (e.g 'I' in the sentence\n",
    "#“I think I will go”)\n",
    "\n",
    "file = open(\"file1.txt\",\"w\",encoding=\"utf-8\")\n",
    "data = file.write(\"My name is Syeda Sajal. I have studied ICS from Lahore College. Now I am doing AI from Wise College.\")\n",
    "file.close()\n",
    "file = open(\"file1.txt\",\"r\",encoding=\"utf-8\")\n",
    "data = file.read()\n",
    "file.close()\n",
    "print(data)\n",
    "\n",
    "all_words = data.split()\n",
    "print(all_words)\n",
    "\n",
    "repetitive_words = []\n",
    "\n",
    "for word in all_words:\n",
    "    if (all_words.count(word)>1) and (word not in repetitive_words):\n",
    "        repetitive_words.append(word)\n",
    "\n",
    "print(repetitive_words)"
   ]
  },
  {
   "cell_type": "code",
   "execution_count": 6,
   "id": "e8386cb8",
   "metadata": {},
   "outputs": [
    {
     "name": "stdout",
     "output_type": "stream",
     "text": [
      "Index Error. Index out of range \n"
     ]
    }
   ],
   "source": [
    "###### Exception Handling\n",
    "#Q1: Write a Python script to demonstrate ValueError, IndexError, NameError exceptions.\n",
    "\n",
    "#index error\n",
    "\n",
    "list1 = [7,9,4,6,3]\n",
    "try:\n",
    "    print(list1[6])\n",
    "except IndexError:\n",
    "    print(\"Index Error. Index out of range \")\n",
    "\n"
   ]
  },
  {
   "cell_type": "code",
   "execution_count": 7,
   "id": "980e3804",
   "metadata": {},
   "outputs": [
    {
     "name": "stdout",
     "output_type": "stream",
     "text": [
      "enter your file name aa\n",
      "You have entered wrong file name. Please try again.\n",
      "enter your file name syed.txt\n",
      "You have entered wrong file name. Please try again.\n",
      "enter your file name syeda.txt\n",
      "my name is Syeda Sajal.\n",
      "I am 19 years old.\n",
      "enter your file name done\n"
     ]
    }
   ],
   "source": [
    "#name error\n",
    "\n",
    "my_file = open(\"syeda.txt\",\"w\",encoding= \"utf-8\")\n",
    "new_file = my_file.write(\"my name is Syeda Sajal.\\n\" \"I am 19 years old.\")\n",
    "my_file.close()\n",
    "\n",
    "while True:\n",
    "    file_name = input(\"enter your file name \")\n",
    "    if file_name ==\"done\":\n",
    "        break\n",
    "    try:\n",
    "        with open(file_name,'r',encoding='utf-8') as file:\n",
    "            print(file.read())\n",
    "    except NameError as e:\n",
    "        print(e)\n",
    "    except FileNotFoundError as e:\n",
    "        print('You have entered wrong file name. Please try again.')\n"
   ]
  },
  {
   "cell_type": "code",
   "execution_count": 8,
   "id": "85a436c2",
   "metadata": {},
   "outputs": [
    {
     "name": "stdout",
     "output_type": "stream",
     "text": [
      "enter a positive number:-6\n",
      "You entered -6 which is not a positive number\n"
     ]
    }
   ],
   "source": [
    "# value error\n",
    "\n",
    "import math\n",
    "number = int(input(\"enter a positive number:\"))\n",
    "try:\n",
    "    print(f\"Square root of {number} is {math.sqrt(number)}\")\n",
    "except ValueError as e:\n",
    "    print(f\"You entered {number} which is not a positive number\")\n",
    "except ValueError as e:\n",
    "    print(\"You are supposed to enter a positive number\")\n",
    "    "
   ]
  },
  {
   "cell_type": "code",
   "execution_count": 9,
   "id": "e98cc520",
   "metadata": {},
   "outputs": [
    {
     "name": "stdout",
     "output_type": "stream",
     "text": [
      "enter a positive number:-6\n",
      "You entered -6 which is not a positive number.You are supposed to enter a positive number\n"
     ]
    }
   ],
   "source": [
    "# value error\n",
    "\n",
    "import math\n",
    "number = int(input(\"enter a positive number:\"))\n",
    "try:\n",
    "    print(f\"Square root of {number} is {math.sqrt(number)}\")\n",
    "except ValueError as e:\n",
    "    print(f\"You entered {number} which is not a positive number.You are supposed to enter a positive number\")\n",
    "    "
   ]
  },
  {
   "cell_type": "code",
   "execution_count": null,
   "id": "899b2d53",
   "metadata": {},
   "outputs": [],
   "source": []
  }
 ],
 "metadata": {
  "kernelspec": {
   "display_name": "Python 3 (ipykernel)",
   "language": "python",
   "name": "python3"
  },
  "language_info": {
   "codemirror_mode": {
    "name": "ipython",
    "version": 3
   },
   "file_extension": ".py",
   "mimetype": "text/x-python",
   "name": "python",
   "nbconvert_exporter": "python",
   "pygments_lexer": "ipython3",
   "version": "3.9.7"
  }
 },
 "nbformat": 4,
 "nbformat_minor": 5
}
