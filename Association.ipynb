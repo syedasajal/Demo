{
 "cells": [
  {
   "cell_type": "code",
   "execution_count": 120,
   "id": "0ddbe2a7",
   "metadata": {},
   "outputs": [],
   "source": [
    "class Box:\n",
    "    def __init__(self, length, width, height, material):\n",
    "        self.length = length\n",
    "        self.width = width\n",
    "        self.height = height\n",
    "        self.material = material\n",
    "        self.ball_count = 0\n",
    "        self.balls = []\n",
    "        \n",
    "    def place_a_ball(self, ball):\n",
    "        self.balls.append(ball)\n",
    "        self.ball_count += 1\n",
    "    \n",
    "    def get_a_ball(self):\n",
    "        if self.ball_count > 0:\n",
    "            self.ball_count -= 1 # self.ball_count = self.ball_count - 1\n",
    "            return self.balls.pop()\n",
    "        else:\n",
    "            print('No balls available to draw')\n",
    "        \n",
    "    def __repr__(self):\n",
    "        return self.material+ ' box'"
   ]
  },
  {
   "cell_type": "code",
   "execution_count": 121,
   "id": "0e523ff0",
   "metadata": {},
   "outputs": [],
   "source": [
    "class Ball:\n",
    "    def __init__(self, diameter, colour):\n",
    "        self.diameter = diameter\n",
    "        self.colour = colour\n",
    "    \n",
    "    def __repr__(self):\n",
    "        return self.colour+' ball'"
   ]
  },
  {
   "cell_type": "code",
   "execution_count": 122,
   "id": "756b3ee5",
   "metadata": {},
   "outputs": [],
   "source": [
    "wooden_box = Box(5,5,5,'wood')"
   ]
  },
  {
   "cell_type": "code",
   "execution_count": 123,
   "id": "c9720b56",
   "metadata": {},
   "outputs": [
    {
     "data": {
      "text/plain": [
       "[]"
      ]
     },
     "execution_count": 123,
     "metadata": {},
     "output_type": "execute_result"
    }
   ],
   "source": [
    "wooden_box.balls"
   ]
  },
  {
   "cell_type": "code",
   "execution_count": 124,
   "id": "3c095d77",
   "metadata": {},
   "outputs": [],
   "source": [
    "blue_ball = Ball(2,'blue')\n",
    "red_ball = Ball(2,'red')\n",
    "orange_ball = Ball(2,'orange')"
   ]
  },
  {
   "cell_type": "code",
   "execution_count": 125,
   "id": "d339b0e3",
   "metadata": {},
   "outputs": [],
   "source": [
    "wooden_box.place_a_ball(blue_ball)\n",
    "wooden_box.place_a_ball(red_ball)\n",
    "wooden_box.place_a_ball(orange_ball)"
   ]
  },
  {
   "cell_type": "code",
   "execution_count": 126,
   "id": "122e4f6c",
   "metadata": {},
   "outputs": [
    {
     "data": {
      "text/plain": [
       "3"
      ]
     },
     "execution_count": 126,
     "metadata": {},
     "output_type": "execute_result"
    }
   ],
   "source": [
    "wooden_box.ball_count"
   ]
  },
  {
   "cell_type": "code",
   "execution_count": 127,
   "id": "8cfb3e3e",
   "metadata": {},
   "outputs": [
    {
     "data": {
      "text/plain": [
       "[blue ball, red ball, orange ball]"
      ]
     },
     "execution_count": 127,
     "metadata": {},
     "output_type": "execute_result"
    }
   ],
   "source": [
    "wooden_box.balls"
   ]
  },
  {
   "cell_type": "code",
   "execution_count": 128,
   "id": "d1a75842",
   "metadata": {},
   "outputs": [
    {
     "name": "stdout",
     "output_type": "stream",
     "text": [
      "wood box\n"
     ]
    }
   ],
   "source": [
    "print(wooden_box)"
   ]
  },
  {
   "cell_type": "code",
   "execution_count": 129,
   "id": "0f633324",
   "metadata": {},
   "outputs": [
    {
     "data": {
      "text/plain": [
       "orange ball"
      ]
     },
     "execution_count": 129,
     "metadata": {},
     "output_type": "execute_result"
    }
   ],
   "source": [
    "wooden_box.get_a_ball()"
   ]
  },
  {
   "cell_type": "code",
   "execution_count": 151,
   "id": "e6b834f0",
   "metadata": {},
   "outputs": [],
   "source": [
    "class Wall:\n",
    "    def __init__(self,material,paint,length,width):\n",
    "        self.material = material\n",
    "        self.paint = paint\n",
    "        self.length = length\n",
    "        self.width = width\n",
    "        self.bricks_count = 0\n",
    "        self.bricks = []\n",
    "\n",
    "    def need_bricks(self,bricks):\n",
    "        self.bricks.append(bricks)\n",
    "        self.bricks_count += 1\n",
    "        \n",
    "    def __repr__(self):\n",
    "        return self.material+ ' wall'"
   ]
  },
  {
   "cell_type": "code",
   "execution_count": 152,
   "id": "623fdca4",
   "metadata": {},
   "outputs": [],
   "source": [
    "class Brick:\n",
    "    def __init__(self,colour,shape):\n",
    "        self.colour = colour\n",
    "        self.shape = shape\n",
    "        \n",
    "    def __repr__(self):\n",
    "        return self.colour+' brick'\n",
    "    "
   ]
  },
  {
   "cell_type": "code",
   "execution_count": 153,
   "id": "e3d300df",
   "metadata": {},
   "outputs": [],
   "source": [
    "wall = Wall(\"cement\",\"blue\",10,10)"
   ]
  },
  {
   "cell_type": "code",
   "execution_count": 154,
   "id": "8e09883a",
   "metadata": {},
   "outputs": [
    {
     "data": {
      "text/plain": [
       "[]"
      ]
     },
     "execution_count": 154,
     "metadata": {},
     "output_type": "execute_result"
    }
   ],
   "source": [
    "wall.bricks"
   ]
  },
  {
   "cell_type": "code",
   "execution_count": 155,
   "id": "e18b398f",
   "metadata": {},
   "outputs": [],
   "source": [
    "brick1 = Brick(\"brown\",\"rectangular\")\n",
    "brick2 = Brick(\"brown\",\"rectangular\")"
   ]
  },
  {
   "cell_type": "code",
   "execution_count": 156,
   "id": "afda138d",
   "metadata": {},
   "outputs": [],
   "source": [
    "wall.need_bricks(brick1)\n",
    "wall.need_bricks(brick2)"
   ]
  },
  {
   "cell_type": "code",
   "execution_count": 157,
   "id": "3bff1918",
   "metadata": {},
   "outputs": [
    {
     "data": {
      "text/plain": [
       "2"
      ]
     },
     "execution_count": 157,
     "metadata": {},
     "output_type": "execute_result"
    }
   ],
   "source": [
    "wall.bricks_count"
   ]
  },
  {
   "cell_type": "code",
   "execution_count": 158,
   "id": "814ed89b",
   "metadata": {},
   "outputs": [
    {
     "data": {
      "text/plain": [
       "[brown brick, brown brick]"
      ]
     },
     "execution_count": 158,
     "metadata": {},
     "output_type": "execute_result"
    }
   ],
   "source": [
    "wall.bricks"
   ]
  },
  {
   "cell_type": "code",
   "execution_count": 159,
   "id": "9e20444b",
   "metadata": {},
   "outputs": [
    {
     "name": "stdout",
     "output_type": "stream",
     "text": [
      "cement wall\n"
     ]
    }
   ],
   "source": [
    "print(wall)"
   ]
  },
  {
   "cell_type": "code",
   "execution_count": 162,
   "id": "2958e143",
   "metadata": {},
   "outputs": [
    {
     "name": "stdout",
     "output_type": "stream",
     "text": [
      "brown brick\n"
     ]
    }
   ],
   "source": [
    "print(brick1)"
   ]
  },
  {
   "cell_type": "code",
   "execution_count": 159,
   "id": "c4f7a816",
   "metadata": {},
   "outputs": [],
   "source": [
    "class Box:\n",
    "    def __init__(self, length, width, shape):\n",
    "        self.length = length\n",
    "        self.width = width\n",
    "        self.shape = shape\n",
    "        \n",
    "    def open_(self):\n",
    "        return \"box opens\"\n",
    "        \n",
    "    def stores_something(self):\n",
    "        return \"box stored something\"\n",
    "    \n",
    "    def close(self):\n",
    "        return \"box closed\"\n",
    "    \n",
    "    \n",
    "class Wooden_Box(Box):\n",
    "    def __init__(self, length, width, shape, material):\n",
    "        self.material = material\n",
    "        Box.__init__(self, length, width, shape)\n",
    "        self.blue_ball_count = 0\n",
    "        self.blue_balls = []\n",
    "        \n",
    "    def place_a_ball(self,blue_ball):\n",
    "        self.blue_balls.append(blue_ball)\n",
    "        self.blue_ball_count += 1   # self.blue_ball_count = self.blue_ball_count + 1\n",
    "    \n",
    "    def get_a_ball(self):\n",
    "        if self.blue_ball_count > 0:\n",
    "            self.blue_ball_count -= 1 # self.blue_ball_count = self.blue_ball_count - 1\n",
    "            return self.blue_balls.pop()\n",
    "        else:\n",
    "            print('No balls available to draw')\n",
    "        \n",
    "    def __repr__(self):\n",
    "        return self.material+ ' box'\n",
    "    \n",
    "    "
   ]
  },
  {
   "cell_type": "code",
   "execution_count": 160,
   "id": "1e8d6787",
   "metadata": {},
   "outputs": [],
   "source": [
    "class Ball:\n",
    "    def __init__(self,size,shape):\n",
    "        self.size = size\n",
    "        self.shape = shape\n",
    "        \n",
    "    def play_with(self):\n",
    "        return \"we can play with ball\"\n",
    "    \n",
    "class Blue_Ball(Ball):\n",
    "    def __init__(self,size,shape,colour):\n",
    "        self.colour = colour\n",
    "        Ball.__init__(self,size,shape)\n",
    "        \n",
    "    def __repr__(self):\n",
    "        return self.colour+ \" ball\""
   ]
  },
  {
   "cell_type": "code",
   "execution_count": 161,
   "id": "193693ce",
   "metadata": {},
   "outputs": [],
   "source": [
    "box = Box(10,10,\"square\")\n",
    "wooden_box = Wooden_Box(10,10,\"square\",\"wood\")"
   ]
  },
  {
   "cell_type": "code",
   "execution_count": 162,
   "id": "31108856",
   "metadata": {},
   "outputs": [
    {
     "data": {
      "text/plain": [
       "[]"
      ]
     },
     "execution_count": 162,
     "metadata": {},
     "output_type": "execute_result"
    }
   ],
   "source": [
    "wooden_box.blue_balls"
   ]
  },
  {
   "cell_type": "code",
   "execution_count": 171,
   "id": "d438567a",
   "metadata": {},
   "outputs": [
    {
     "name": "stdout",
     "output_type": "stream",
     "text": [
      "No balls available to draw\n"
     ]
    }
   ],
   "source": [
    "wooden_box.get_a_ball()"
   ]
  },
  {
   "cell_type": "code",
   "execution_count": 172,
   "id": "aa09f5f4",
   "metadata": {},
   "outputs": [
    {
     "data": {
      "text/plain": [
       "0"
      ]
     },
     "execution_count": 172,
     "metadata": {},
     "output_type": "execute_result"
    }
   ],
   "source": [
    "wooden_box.blue_ball_count"
   ]
  },
  {
   "cell_type": "code",
   "execution_count": 163,
   "id": "6b79ee31",
   "metadata": {},
   "outputs": [],
   "source": [
    "ball = Ball(\"small\",\"round\")\n",
    "blue_ball = Blue_Ball(\"small\",\"round\",\"blue\")"
   ]
  },
  {
   "cell_type": "code",
   "execution_count": 164,
   "id": "7637f8ad",
   "metadata": {},
   "outputs": [],
   "source": [
    "wooden_box.place_a_ball(blue_ball)"
   ]
  },
  {
   "cell_type": "code",
   "execution_count": 165,
   "id": "9853f073",
   "metadata": {},
   "outputs": [
    {
     "data": {
      "text/plain": [
       "1"
      ]
     },
     "execution_count": 165,
     "metadata": {},
     "output_type": "execute_result"
    }
   ],
   "source": [
    "wooden_box.blue_ball_count"
   ]
  },
  {
   "cell_type": "code",
   "execution_count": 166,
   "id": "bd392ab3",
   "metadata": {},
   "outputs": [
    {
     "data": {
      "text/plain": [
       "[blue ball]"
      ]
     },
     "execution_count": 166,
     "metadata": {},
     "output_type": "execute_result"
    }
   ],
   "source": [
    "wooden_box.blue_balls"
   ]
  },
  {
   "cell_type": "code",
   "execution_count": 168,
   "id": "cd0d75a7",
   "metadata": {},
   "outputs": [
    {
     "name": "stdout",
     "output_type": "stream",
     "text": [
      "wood box\n"
     ]
    }
   ],
   "source": [
    "print(wooden_box)"
   ]
  },
  {
   "cell_type": "code",
   "execution_count": 169,
   "id": "d5606681",
   "metadata": {},
   "outputs": [
    {
     "data": {
      "text/plain": [
       "'small'"
      ]
     },
     "execution_count": 169,
     "metadata": {},
     "output_type": "execute_result"
    }
   ],
   "source": [
    "blue_ball.size"
   ]
  },
  {
   "cell_type": "code",
   "execution_count": 170,
   "id": "663e9a85",
   "metadata": {},
   "outputs": [
    {
     "data": {
      "text/plain": [
       "blue ball"
      ]
     },
     "execution_count": 170,
     "metadata": {},
     "output_type": "execute_result"
    }
   ],
   "source": [
    "wooden_box.get_a_ball()"
   ]
  },
  {
   "cell_type": "code",
   "execution_count": 173,
   "id": "1cc84ab9",
   "metadata": {},
   "outputs": [
    {
     "name": "stdout",
     "output_type": "stream",
     "text": [
      "blue ball\n"
     ]
    }
   ],
   "source": [
    "print(blue_ball)"
   ]
  },
  {
   "cell_type": "code",
   "execution_count": 9,
   "id": "203872f8",
   "metadata": {},
   "outputs": [],
   "source": [
    "class Organization:\n",
    "    def __init__(self,org_name,owner,customer):\n",
    "        self.org_name = org_name \n",
    "        self.owner = owner\n",
    "        self.customer = customer\n",
    "        self.employes_count = 0\n",
    "        self.employes = []\n",
    "        \n",
    "    def hire_employes(self,employes):\n",
    "        self.employes.append(employes)\n",
    "        self.employes_count += 1\n",
    "        \n",
    "    def fire_employes(self):\n",
    "        if self.employes_count > 0:\n",
    "            for i in range(self.employes_count):\n",
    "                self.employes_count -= 1\n",
    "                return self.employes.pop()\n",
    "        \n",
    "        else:\n",
    "            return \"no employes left\"\n",
    "        \n",
    "    def __repr__(self):\n",
    "        return self.org_name"
   ]
  },
  {
   "cell_type": "code",
   "execution_count": 10,
   "id": "76585ded",
   "metadata": {},
   "outputs": [],
   "source": [
    "class Employe:\n",
    "    def __init__(self,name,age,superiorities):\n",
    "        self.name = name\n",
    "        self.age = age \n",
    "        self.superiorities = superiorities\n",
    "        \n",
    "    def work(self):\n",
    "        return \"employe works\"\n",
    "    \n",
    "    def __repr__(self):\n",
    "        return self.name+ \" employe\""
   ]
  },
  {
   "cell_type": "code",
   "execution_count": 11,
   "id": "166501bc",
   "metadata": {},
   "outputs": [],
   "source": [
    "org = Organization(\"health-centre\",\"jamal\",\"customer\")"
   ]
  },
  {
   "cell_type": "code",
   "execution_count": 12,
   "id": "dddd90d3",
   "metadata": {},
   "outputs": [
    {
     "data": {
      "text/plain": [
       "'no employes left'"
      ]
     },
     "execution_count": 12,
     "metadata": {},
     "output_type": "execute_result"
    }
   ],
   "source": [
    "org.fire_employes()"
   ]
  },
  {
   "cell_type": "code",
   "execution_count": 13,
   "id": "81ac51e1",
   "metadata": {},
   "outputs": [],
   "source": [
    "emp1 = Employe(\"ali\",\"27\",\"marketing\")\n",
    "emp2 = Employe(\"ahmad\",\"26\",\"marketing\")"
   ]
  },
  {
   "cell_type": "code",
   "execution_count": 14,
   "id": "d56a9196",
   "metadata": {},
   "outputs": [],
   "source": [
    "org.hire_employes(emp1)\n",
    "org.hire_employes(emp2)"
   ]
  },
  {
   "cell_type": "code",
   "execution_count": 15,
   "id": "d16b9824",
   "metadata": {},
   "outputs": [
    {
     "data": {
      "text/plain": [
       "2"
      ]
     },
     "execution_count": 15,
     "metadata": {},
     "output_type": "execute_result"
    }
   ],
   "source": [
    "org.employes_count"
   ]
  },
  {
   "cell_type": "code",
   "execution_count": 16,
   "id": "b7090a3d",
   "metadata": {},
   "outputs": [
    {
     "data": {
      "text/plain": [
       "[ali employe, ahmad employe]"
      ]
     },
     "execution_count": 16,
     "metadata": {},
     "output_type": "execute_result"
    }
   ],
   "source": [
    "org.employes"
   ]
  },
  {
   "cell_type": "code",
   "execution_count": 17,
   "id": "c8c64223",
   "metadata": {},
   "outputs": [
    {
     "name": "stdout",
     "output_type": "stream",
     "text": [
      "health-centre\n"
     ]
    }
   ],
   "source": [
    "print(org)"
   ]
  },
  {
   "cell_type": "code",
   "execution_count": 18,
   "id": "6f12fcd4",
   "metadata": {},
   "outputs": [
    {
     "data": {
      "text/plain": [
       "ahmad employe"
      ]
     },
     "execution_count": 18,
     "metadata": {},
     "output_type": "execute_result"
    }
   ],
   "source": [
    "org.fire_employes()"
   ]
  },
  {
   "cell_type": "code",
   "execution_count": 19,
   "id": "ae7b49d8",
   "metadata": {
    "scrolled": true
   },
   "outputs": [
    {
     "name": "stdout",
     "output_type": "stream",
     "text": [
      "ali employe\n"
     ]
    }
   ],
   "source": [
    "print(emp1)"
   ]
  },
  {
   "cell_type": "code",
   "execution_count": 20,
   "id": "a4419571",
   "metadata": {},
   "outputs": [
    {
     "name": "stdout",
     "output_type": "stream",
     "text": [
      "ahmad employe\n"
     ]
    }
   ],
   "source": [
    "print(emp2)"
   ]
  },
  {
   "cell_type": "code",
   "execution_count": 21,
   "id": "ec322a18",
   "metadata": {},
   "outputs": [
    {
     "name": "stdout",
     "output_type": "stream",
     "text": [
      "ali employe ahmad employe\n"
     ]
    }
   ],
   "source": [
    "print(emp1,emp2)"
   ]
  },
  {
   "cell_type": "code",
   "execution_count": 64,
   "id": "e4177023",
   "metadata": {},
   "outputs": [],
   "source": [
    "class Classroom:\n",
    "    def __init__(self,chairs,tables,white_board,board_marker,class_name):\n",
    "        self.chairs = chairs\n",
    "        self.tables = tables\n",
    "        self.white_board = white_board\n",
    "        self.board_marker = board_marker\n",
    "        self.class_name = class_name\n",
    "        self.students_count = 0\n",
    "        self.students = []\n",
    "        \n",
    "    def has_students(self,students):\n",
    "        self.students.append(students)\n",
    "        self.students_count += 1\n",
    "        \n",
    "    def __repr__(self):\n",
    "        return self.class_name\n",
    "        "
   ]
  },
  {
   "cell_type": "code",
   "execution_count": 87,
   "id": "55da00d9",
   "metadata": {},
   "outputs": [],
   "source": [
    "class Student:\n",
    "    def __init__(self,name,gender,age,height,roll_num):\n",
    "        self.name = name\n",
    "        self.gender = gender\n",
    "        self.age = age\n",
    "        self.height = height\n",
    "        self.roll_num = roll_num\n",
    "        \n",
    "    def studies(self):\n",
    "        return \"student studies in classroom\"\n",
    "    \n",
    "    def __repr__(self):\n",
    "        return self.name+ \" rollnum #\"+ str(self.roll_num)"
   ]
  },
  {
   "cell_type": "code",
   "execution_count": 88,
   "id": "a7c41797",
   "metadata": {},
   "outputs": [],
   "source": [
    "classroom1 = Classroom(30,30,1,2,\"class#1\")"
   ]
  },
  {
   "cell_type": "code",
   "execution_count": 89,
   "id": "416c8238",
   "metadata": {},
   "outputs": [
    {
     "data": {
      "text/plain": [
       "0"
      ]
     },
     "execution_count": 89,
     "metadata": {},
     "output_type": "execute_result"
    }
   ],
   "source": [
    "classroom1.students_count"
   ]
  },
  {
   "cell_type": "code",
   "execution_count": 90,
   "id": "446b506d",
   "metadata": {},
   "outputs": [],
   "source": [
    "stdnt1 = Student(\"maha\",\"female\",18,5.0,10)\n",
    "stdnt2 = Student(\"ahmad\",\"male\",20,5.6,15)"
   ]
  },
  {
   "cell_type": "code",
   "execution_count": 91,
   "id": "0548bea1",
   "metadata": {},
   "outputs": [],
   "source": [
    "classroom1.has_students(stdnt1)\n",
    "classroom1.has_students(stdnt2)"
   ]
  },
  {
   "cell_type": "code",
   "execution_count": 92,
   "id": "dbbced6a",
   "metadata": {},
   "outputs": [
    {
     "data": {
      "text/plain": [
       "2"
      ]
     },
     "execution_count": 92,
     "metadata": {},
     "output_type": "execute_result"
    }
   ],
   "source": [
    "classroom1.students_count"
   ]
  },
  {
   "cell_type": "code",
   "execution_count": 93,
   "id": "969af167",
   "metadata": {},
   "outputs": [
    {
     "data": {
      "text/plain": [
       "[maha rollnum #10, ahmad rollnum #15]"
      ]
     },
     "execution_count": 93,
     "metadata": {},
     "output_type": "execute_result"
    }
   ],
   "source": [
    "classroom1.students"
   ]
  },
  {
   "cell_type": "code",
   "execution_count": 94,
   "id": "0cddb544",
   "metadata": {},
   "outputs": [
    {
     "name": "stdout",
     "output_type": "stream",
     "text": [
      "class#1\n"
     ]
    }
   ],
   "source": [
    "print(classroom1)"
   ]
  },
  {
   "cell_type": "code",
   "execution_count": 95,
   "id": "aab37f27",
   "metadata": {},
   "outputs": [
    {
     "name": "stdout",
     "output_type": "stream",
     "text": [
      "maha rollnum #10\n"
     ]
    }
   ],
   "source": [
    "print(stdnt1)"
   ]
  },
  {
   "cell_type": "code",
   "execution_count": 96,
   "id": "7fb89bf3",
   "metadata": {},
   "outputs": [
    {
     "name": "stdout",
     "output_type": "stream",
     "text": [
      "ahmad rollnum #15\n"
     ]
    }
   ],
   "source": [
    "print(stdnt2)"
   ]
  },
  {
   "cell_type": "code",
   "execution_count": 103,
   "id": "99bc9f83",
   "metadata": {},
   "outputs": [],
   "source": [
    "class Bag:\n",
    "    def __init__(self,material,colour,length,width):\n",
    "        self.material = material\n",
    "        self.colour = colour\n",
    "        self.length = length\n",
    "        self.width = width\n",
    "        self.books_count = 0\n",
    "        self.books = []\n",
    "        \n",
    "    def place_books(self,books):\n",
    "        self.books.append(books)\n",
    "        self.books_count += 1\n",
    "        \n",
    "    def get_books(self):\n",
    "        if self.books_count > 0:\n",
    "            for i in range(self.books_count):\n",
    "                self.books_count -= 1\n",
    "                return self.books.pop()\n",
    "        else:\n",
    "            return \"no books available to get\"\n",
    "        \n",
    "        \n",
    "    def __repr__(self):\n",
    "        return self.colour+ \" bag\"\n",
    "        "
   ]
  },
  {
   "cell_type": "code",
   "execution_count": 118,
   "id": "e00ddcf0",
   "metadata": {},
   "outputs": [],
   "source": [
    "class Book:\n",
    "    def __init__(self,book_name,length,width,colour,pages):\n",
    "        self.book_name = book_name\n",
    "        self.length = length\n",
    "        self.width = width\n",
    "        self.colour = colour\n",
    "        self.pages = pages\n",
    "        \n",
    "    def for_reading(self):\n",
    "        return \"we can read and gain knowledge from book\"\n",
    "    \n",
    "    def __repr__(self):\n",
    "        return self.book_name+ \" book\"\n",
    "        "
   ]
  },
  {
   "cell_type": "code",
   "execution_count": 119,
   "id": "2d1ff329",
   "metadata": {},
   "outputs": [],
   "source": [
    "bag = Bag(\"leather bag\",\"brown\",15,10)"
   ]
  },
  {
   "cell_type": "code",
   "execution_count": 120,
   "id": "40ddf302",
   "metadata": {},
   "outputs": [
    {
     "data": {
      "text/plain": [
       "'no books available to get'"
      ]
     },
     "execution_count": 120,
     "metadata": {},
     "output_type": "execute_result"
    }
   ],
   "source": [
    "bag.get_books()"
   ]
  },
  {
   "cell_type": "code",
   "execution_count": 121,
   "id": "4d1fff34",
   "metadata": {},
   "outputs": [],
   "source": [
    "science = Book(\"science\",6,5,\"orange\",100)\n",
    "english = Book(\"english\",6,5,\"blue\",90)"
   ]
  },
  {
   "cell_type": "code",
   "execution_count": 122,
   "id": "983b9690",
   "metadata": {},
   "outputs": [],
   "source": [
    "bag.place_books(science)\n",
    "bag.place_books(english)"
   ]
  },
  {
   "cell_type": "code",
   "execution_count": 123,
   "id": "0f8bc90c",
   "metadata": {},
   "outputs": [
    {
     "data": {
      "text/plain": [
       "2"
      ]
     },
     "execution_count": 123,
     "metadata": {},
     "output_type": "execute_result"
    }
   ],
   "source": [
    "bag.books_count"
   ]
  },
  {
   "cell_type": "code",
   "execution_count": 124,
   "id": "bff2618c",
   "metadata": {},
   "outputs": [
    {
     "data": {
      "text/plain": [
       "[science book, english book]"
      ]
     },
     "execution_count": 124,
     "metadata": {},
     "output_type": "execute_result"
    }
   ],
   "source": [
    "bag.books"
   ]
  },
  {
   "cell_type": "code",
   "execution_count": 125,
   "id": "4a9269fd",
   "metadata": {},
   "outputs": [
    {
     "data": {
      "text/plain": [
       "english book"
      ]
     },
     "execution_count": 125,
     "metadata": {},
     "output_type": "execute_result"
    }
   ],
   "source": [
    "bag.get_books()"
   ]
  },
  {
   "cell_type": "code",
   "execution_count": 126,
   "id": "f5736a4d",
   "metadata": {},
   "outputs": [
    {
     "name": "stdout",
     "output_type": "stream",
     "text": [
      "brown bag\n"
     ]
    }
   ],
   "source": [
    "print(bag)"
   ]
  },
  {
   "cell_type": "code",
   "execution_count": 127,
   "id": "a2089372",
   "metadata": {},
   "outputs": [
    {
     "name": "stdout",
     "output_type": "stream",
     "text": [
      "science book\n"
     ]
    }
   ],
   "source": [
    "print(science)"
   ]
  },
  {
   "cell_type": "code",
   "execution_count": 128,
   "id": "1e8703c9",
   "metadata": {},
   "outputs": [
    {
     "name": "stdout",
     "output_type": "stream",
     "text": [
      "english book\n"
     ]
    }
   ],
   "source": [
    "print(english)"
   ]
  },
  {
   "cell_type": "code",
   "execution_count": 2,
   "id": "9ef78e87",
   "metadata": {},
   "outputs": [],
   "source": [
    "import time\n",
    "\n",
    "class Car:\n",
    "    def __init__(self,brand,model):\n",
    "        self.brand = brand\n",
    "        self.model = model\n",
    "        self.fuel_level = 0\n",
    "        self.started = False\n",
    "        self.doors = []\n",
    "        self.doors_count = 0\n",
    "        self.tyres = []\n",
    "        self.tyres_count = 0\n",
    "        \n",
    "    def has_doors(self,doors):\n",
    "        self.doors.append(doors)\n",
    "        self.doors_count += 1\n",
    "        \n",
    "    def has_tyres(self,tyres):\n",
    "        self.tyres.append(tyres)\n",
    "        self.tyres_count += 1\n",
    "           \n",
    "    def fuel_up(self,fuel_level):\n",
    "        for i in range(fuel_level):\n",
    "            self.fuel_level = self.fuel_level + 1\n",
    "            print('fuel is: '+str(self.fuel_level))\n",
    "            time.sleep(1)\n",
    "        \n",
    "    def start(self):\n",
    "        if self.fuel_level > 0 :\n",
    "            print(\"car is started\")\n",
    "            self.started = True\n",
    "        else:\n",
    "            print('Please add fuel')\n",
    "            \n",
    "    def drive(self):\n",
    "        if self.started==True:\n",
    "            print(\"car is now driving\")\n",
    "        else:\n",
    "            print('please start the car first')\n",
    "        \n",
    "    def stop(self):\n",
    "        print(\"car is stop\")\n",
    "        \n",
    "    \n",
    "    def __repr__(self):\n",
    "        return self.model +\" \"+ self.brand\n",
    "        "
   ]
  },
  {
   "cell_type": "code",
   "execution_count": 3,
   "id": "d4199b82",
   "metadata": {},
   "outputs": [],
   "source": [
    "class Door:\n",
    "    def __init__(self,length,width,colour,material):\n",
    "        self.length = length\n",
    "        self.width = width\n",
    "        self.colour = colour\n",
    "        self.material = material\n",
    "        self.angle = 0\n",
    "        \n",
    "    def open_(self,angle_value):\n",
    "        self.angle = angle_value\n",
    "        print(\"Open the door\")\n",
    "        \n",
    "    def close_(self,angle_value):\n",
    "        if angle_value==0:\n",
    "            print(\"Door is already closed,cannot close more.\")\n",
    "        else:\n",
    "            self.angle = self.angle - angle_value\n",
    "            \n",
    "    def __repr__(self):\n",
    "        return self.material+ \" door\"\n",
    "\n",
    "    "
   ]
  },
  {
   "cell_type": "code",
   "execution_count": 17,
   "id": "1891bff1",
   "metadata": {},
   "outputs": [],
   "source": [
    "class Tyre:\n",
    "    def __init__(self,company):\n",
    "        self.company = company\n",
    "        \n",
    "    def move_car(self):\n",
    "        return \"car move with tyres\"\n",
    "    \n",
    "    def __repr__(self):\n",
    "        return self.company+ \" tyre\""
   ]
  },
  {
   "cell_type": "code",
   "execution_count": 18,
   "id": "6334350c",
   "metadata": {},
   "outputs": [],
   "source": [
    "car = Car(\"toyotta\",\"corolla\")"
   ]
  },
  {
   "cell_type": "code",
   "execution_count": 19,
   "id": "457793a9",
   "metadata": {},
   "outputs": [
    {
     "data": {
      "text/plain": [
       "[]"
      ]
     },
     "execution_count": 19,
     "metadata": {},
     "output_type": "execute_result"
    }
   ],
   "source": [
    "car.doors"
   ]
  },
  {
   "cell_type": "code",
   "execution_count": 20,
   "id": "9f27cf88",
   "metadata": {},
   "outputs": [
    {
     "data": {
      "text/plain": [
       "[]"
      ]
     },
     "execution_count": 20,
     "metadata": {},
     "output_type": "execute_result"
    }
   ],
   "source": [
    "car.tyres"
   ]
  },
  {
   "cell_type": "code",
   "execution_count": 21,
   "id": "87e0d343",
   "metadata": {},
   "outputs": [
    {
     "data": {
      "text/plain": [
       "0"
      ]
     },
     "execution_count": 21,
     "metadata": {},
     "output_type": "execute_result"
    }
   ],
   "source": [
    "car.doors_count"
   ]
  },
  {
   "cell_type": "code",
   "execution_count": 22,
   "id": "561df9b7",
   "metadata": {},
   "outputs": [
    {
     "data": {
      "text/plain": [
       "0"
      ]
     },
     "execution_count": 22,
     "metadata": {},
     "output_type": "execute_result"
    }
   ],
   "source": [
    "car.tyres_count"
   ]
  },
  {
   "cell_type": "code",
   "execution_count": 23,
   "id": "90ccf83e",
   "metadata": {},
   "outputs": [],
   "source": [
    "dr1 = Door(15,10,\"black\",\"wood\")\n",
    "dr2 = Door(15,10,\"brown\",\"steel\")\n",
    "dr3 = Door(15,10,\"red\",\"wood\")\n",
    "dr4 = Door(15,10,\"white\",\"steel\")"
   ]
  },
  {
   "cell_type": "code",
   "execution_count": 24,
   "id": "452e9d37",
   "metadata": {},
   "outputs": [],
   "source": [
    "car.has_doors(dr1)\n",
    "car.has_doors(dr2)\n",
    "car.has_doors(dr3)\n",
    "car.has_doors(dr4)"
   ]
  },
  {
   "cell_type": "code",
   "execution_count": 25,
   "id": "e2144aa9",
   "metadata": {},
   "outputs": [],
   "source": [
    "tyre1 = Tyre(\"toyotta\")\n",
    "tyre2 = Tyre(\"toyotta\")\n",
    "tyre3 = Tyre(\"toyotta\")\n",
    "tyre4 = Tyre(\"toyotta\")"
   ]
  },
  {
   "cell_type": "code",
   "execution_count": 28,
   "id": "70249f1e",
   "metadata": {},
   "outputs": [],
   "source": [
    "car.has_tyres(tyre1)\n",
    "car.has_tyres(tyre2)\n",
    "car.has_tyres(tyre3)\n",
    "car.has_tyres(tyre4)"
   ]
  },
  {
   "cell_type": "code",
   "execution_count": 29,
   "id": "23490e8f",
   "metadata": {},
   "outputs": [
    {
     "data": {
      "text/plain": [
       "[wood door, steel door, wood door, steel door]"
      ]
     },
     "execution_count": 29,
     "metadata": {},
     "output_type": "execute_result"
    }
   ],
   "source": [
    "car.doors"
   ]
  },
  {
   "cell_type": "code",
   "execution_count": 30,
   "id": "df47f3fd",
   "metadata": {},
   "outputs": [
    {
     "data": {
      "text/plain": [
       "4"
      ]
     },
     "execution_count": 30,
     "metadata": {},
     "output_type": "execute_result"
    }
   ],
   "source": [
    "car.doors_count"
   ]
  },
  {
   "cell_type": "code",
   "execution_count": 31,
   "id": "1efc97f4",
   "metadata": {},
   "outputs": [
    {
     "data": {
      "text/plain": [
       "[toyotta tyre, toyotta tyre, toyotta tyre, toyotta tyre]"
      ]
     },
     "execution_count": 31,
     "metadata": {},
     "output_type": "execute_result"
    }
   ],
   "source": [
    "car.tyres"
   ]
  },
  {
   "cell_type": "code",
   "execution_count": 32,
   "id": "928d1c4a",
   "metadata": {},
   "outputs": [
    {
     "data": {
      "text/plain": [
       "4"
      ]
     },
     "execution_count": 32,
     "metadata": {},
     "output_type": "execute_result"
    }
   ],
   "source": [
    "car.tyres_count"
   ]
  },
  {
   "cell_type": "code",
   "execution_count": 12,
   "id": "798f1aa6",
   "metadata": {},
   "outputs": [
    {
     "name": "stdout",
     "output_type": "stream",
     "text": [
      "Open the door\n"
     ]
    }
   ],
   "source": [
    "dr1.open_(5)"
   ]
  },
  {
   "cell_type": "code",
   "execution_count": 13,
   "id": "50800235",
   "metadata": {},
   "outputs": [
    {
     "name": "stdout",
     "output_type": "stream",
     "text": [
      "Door is already closed,cannot close more.\n"
     ]
    }
   ],
   "source": [
    "dr1.close_(0)"
   ]
  },
  {
   "cell_type": "code",
   "execution_count": 14,
   "id": "ec2101eb",
   "metadata": {},
   "outputs": [
    {
     "name": "stdout",
     "output_type": "stream",
     "text": [
      "wood door\n"
     ]
    }
   ],
   "source": [
    "print(dr1)"
   ]
  },
  {
   "cell_type": "code",
   "execution_count": 15,
   "id": "eaa408a7",
   "metadata": {},
   "outputs": [
    {
     "name": "stdout",
     "output_type": "stream",
     "text": [
      "corolla toyotta\n"
     ]
    }
   ],
   "source": [
    "print(car)"
   ]
  },
  {
   "cell_type": "code",
   "execution_count": 34,
   "id": "5120d307",
   "metadata": {},
   "outputs": [
    {
     "name": "stdout",
     "output_type": "stream",
     "text": [
      "toyotta tyre\n"
     ]
    }
   ],
   "source": [
    "print(tyre1)"
   ]
  },
  {
   "cell_type": "code",
   "execution_count": 38,
   "id": "1a09e724",
   "metadata": {},
   "outputs": [],
   "source": [
    "class School:\n",
    "    def __init__(self,school_name,classrooms,office,ground,staff,students):\n",
    "        self.school_name = school_name\n",
    "        self.classrooms = classrooms\n",
    "        self.office = office \n",
    "        self.ground = ground\n",
    "        self.staff = staff\n",
    "        self.students = students\n",
    "        self.teachers = []\n",
    "        self.teachers_count = 0\n",
    "        \n",
    "    def hire_teachers(self,teachers):\n",
    "        self.teachers.append(teachers)\n",
    "        self.teachers_count += 1\n",
    "        \n",
    "    def fire_teacher(self):\n",
    "        if self.teachers_count > 0:\n",
    "            self.teachers_count -= 1\n",
    "        else:\n",
    "            return \"no teachers available to fire\"\n",
    "        \n",
    "    def give_education(self):\n",
    "        return \"school gives education\"\n",
    "    \n",
    "    def __repr__(self):\n",
    "        return self.school_name"
   ]
  },
  {
   "cell_type": "code",
   "execution_count": 62,
   "id": "e45003d6",
   "metadata": {},
   "outputs": [],
   "source": [
    "class Teacher:\n",
    "    def __init__(self,name,age,height,qualification,subject_of_teaching):\n",
    "        self.name = name\n",
    "        self.age = age\n",
    "        self.height = height\n",
    "        self.qualification = qualification\n",
    "        self.subject_of_teaching = subject_of_teaching\n",
    "        \n",
    "    def gives_knowledge(self):\n",
    "        return \"teacher gives knowkedge\"\n",
    "    \n",
    "    def __repr__(self):\n",
    "        return self.name+' '+self.subject_of_teaching+ \" teacher\"\n",
    "\n",
    "    def __str__(self):\n",
    "        return self.name+' '+self.subject_of_teaching+ \" teacher\""
   ]
  },
  {
   "cell_type": "code",
   "execution_count": 63,
   "id": "eec3e71b",
   "metadata": {},
   "outputs": [],
   "source": [
    "school = School(\"MQ\",50,1,2,\"good staff\",300)"
   ]
  },
  {
   "cell_type": "code",
   "execution_count": 64,
   "id": "1d0fd696",
   "metadata": {},
   "outputs": [
    {
     "data": {
      "text/plain": [
       "[]"
      ]
     },
     "execution_count": 64,
     "metadata": {},
     "output_type": "execute_result"
    }
   ],
   "source": [
    "school.teachers"
   ]
  },
  {
   "cell_type": "code",
   "execution_count": 65,
   "id": "cfdbbd5d",
   "metadata": {},
   "outputs": [],
   "source": [
    "teacher_name = [{'name':'sajal','age':19,'height':5.4,'qualification':'inter','subject':'python'},\n",
    "                {'name':'maham','age':19,'height':5.4,'qualification':'inter','subject':'english'},\n",
    "                {'name':'saira','age':19,'height':5.4,'qualification':'inter','subject':'urdu'}]\n",
    "list_of_teachers = []\n",
    "\n",
    "for i in range(3):\n",
    "    list_of_teachers.append(Teacher(teacher_name[i]['name'],teacher_name[i]['age'],teacher_name[i]['height'],\n",
    "                     teacher_name[i]['qualification'],teacher_name[i]['subject']))\n"
   ]
  },
  {
   "cell_type": "code",
   "execution_count": 68,
   "id": "945cceb7",
   "metadata": {},
   "outputs": [
    {
     "data": {
      "text/plain": [
       "saira urdu teacher"
      ]
     },
     "execution_count": 68,
     "metadata": {},
     "output_type": "execute_result"
    }
   ],
   "source": [
    "list_of_teachers[2]"
   ]
  },
  {
   "cell_type": "code",
   "execution_count": 73,
   "id": "14744adb",
   "metadata": {},
   "outputs": [],
   "source": [
    "class House:\n",
    "    def __init__(self,bedrooms,tv_lounge,dining,drawing,kitchen,lawn,colour):\n",
    "        self.bedrooms = bedrooms\n",
    "        self.tv_lounge = tv_lounge\n",
    "        self.dining = dining\n",
    "        self.drawing = drawing\n",
    "        self.kitchen = kitchen\n",
    "        self.lawn =lawn\n",
    "        self.colour = colour\n",
    "        self.walls = []\n",
    "        self.walls_count = 0\n",
    "        \n",
    "    def has_walls(self,walls):\n",
    "        self.walls.append(walls)\n",
    "        self.walls_count += 1\n",
    "        \n",
    "    def has_roof(self):\n",
    "        return \"house has roof\"\n",
    "        \n",
    "    def __repr__(self):\n",
    "        return \"Colour of House is \"+ self.colour\n"
   ]
  },
  {
   "cell_type": "code",
   "execution_count": 74,
   "id": "6ffc30cf",
   "metadata": {},
   "outputs": [],
   "source": [
    "class Wall:\n",
    "    def __init__(self,bricks,material,length,width,colour):\n",
    "        self.bricks = bricks\n",
    "        self.material = material\n",
    "        self.length = length\n",
    "        self.width = width\n",
    "        self.colour = colour\n",
    "        \n",
    "    def __repr__(self):\n",
    "        return self.colour+ \" wall\""
   ]
  },
  {
   "cell_type": "code",
   "execution_count": 75,
   "id": "18a31b16",
   "metadata": {},
   "outputs": [],
   "source": [
    "house = House(4,1,1,1,1,1,\"grey\")"
   ]
  },
  {
   "cell_type": "code",
   "execution_count": 76,
   "id": "d9002d7a",
   "metadata": {},
   "outputs": [],
   "source": [
    "walls = [{\"bricks\":200,'material':'cement','length':30,'width':25,'colour':\"brown\"},\n",
    "         {\"bricks\":150,'material':'cement','length':20,'width':15,'colour':\"blue\"},\n",
    "         {\"bricks\":200,'material':'cement','length':25,'width':2,'colour':\"grey\"}]\n",
    "list_of_walls = []\n",
    "\n",
    "for i in range(3):\n",
    "    list_of_walls.append(Wall(walls[i][\"bricks\"],walls[i][\"material\"],walls[i][\"length\"],\n",
    "                              walls[i][\"width\"],walls[i][\"colour\"]))"
   ]
  },
  {
   "cell_type": "code",
   "execution_count": 77,
   "id": "bf30706f",
   "metadata": {},
   "outputs": [
    {
     "data": {
      "text/plain": [
       "blue wall"
      ]
     },
     "execution_count": 77,
     "metadata": {},
     "output_type": "execute_result"
    }
   ],
   "source": [
    "list_of_walls[1]"
   ]
  },
  {
   "cell_type": "code",
   "execution_count": 78,
   "id": "dfacf3a6",
   "metadata": {},
   "outputs": [
    {
     "name": "stdout",
     "output_type": "stream",
     "text": [
      "Colour of House is grey\n"
     ]
    }
   ],
   "source": [
    "print(house)"
   ]
  },
  {
   "cell_type": "code",
   "execution_count": 80,
   "id": "b50644b4",
   "metadata": {},
   "outputs": [
    {
     "data": {
      "text/plain": [
       "[]"
      ]
     },
     "execution_count": 80,
     "metadata": {},
     "output_type": "execute_result"
    }
   ],
   "source": [
    "house.walls"
   ]
  },
  {
   "cell_type": "code",
   "execution_count": 81,
   "id": "fe8a925b",
   "metadata": {},
   "outputs": [
    {
     "data": {
      "text/plain": [
       "0"
      ]
     },
     "execution_count": 81,
     "metadata": {},
     "output_type": "execute_result"
    }
   ],
   "source": [
    "house.walls_count"
   ]
  },
  {
   "cell_type": "code",
   "execution_count": 82,
   "id": "0ea9cfac",
   "metadata": {},
   "outputs": [],
   "source": [
    "house.has_walls(list_of_walls[0])"
   ]
  },
  {
   "cell_type": "code",
   "execution_count": 83,
   "id": "27dcc20e",
   "metadata": {},
   "outputs": [
    {
     "data": {
      "text/plain": [
       "[brown wall]"
      ]
     },
     "execution_count": 83,
     "metadata": {},
     "output_type": "execute_result"
    }
   ],
   "source": [
    "house.walls"
   ]
  },
  {
   "cell_type": "code",
   "execution_count": 85,
   "id": "e55a45e1",
   "metadata": {},
   "outputs": [],
   "source": [
    "house.has_walls(list_of_walls[1])"
   ]
  },
  {
   "cell_type": "code",
   "execution_count": 86,
   "id": "65f89faf",
   "metadata": {},
   "outputs": [
    {
     "data": {
      "text/plain": [
       "[brown wall, blue wall]"
      ]
     },
     "execution_count": 86,
     "metadata": {},
     "output_type": "execute_result"
    }
   ],
   "source": [
    "house.walls"
   ]
  },
  {
   "cell_type": "code",
   "execution_count": 87,
   "id": "303e0bec",
   "metadata": {},
   "outputs": [],
   "source": [
    "house.has_walls(list_of_walls[2])"
   ]
  },
  {
   "cell_type": "code",
   "execution_count": 88,
   "id": "abfcdc8e",
   "metadata": {},
   "outputs": [
    {
     "data": {
      "text/plain": [
       "[brown wall, blue wall, grey wall]"
      ]
     },
     "execution_count": 88,
     "metadata": {},
     "output_type": "execute_result"
    }
   ],
   "source": [
    "house.walls"
   ]
  },
  {
   "cell_type": "code",
   "execution_count": 89,
   "id": "9abe6504",
   "metadata": {},
   "outputs": [
    {
     "data": {
      "text/plain": [
       "3"
      ]
     },
     "execution_count": 89,
     "metadata": {},
     "output_type": "execute_result"
    }
   ],
   "source": [
    "house.walls_count"
   ]
  },
  {
   "cell_type": "code",
   "execution_count": 2,
   "id": "5d3b774b",
   "metadata": {},
   "outputs": [],
   "source": [
    "class Notebook:\n",
    "    def __init__(self,length,width,colour):\n",
    "        self.length = length\n",
    "        self.width = width\n",
    "        self.colour = colour\n",
    "        self.pages = []\n",
    "        self.pages_count = 0\n",
    "        \n",
    "    def has_pages(self,pages):\n",
    "        for page in pages:\n",
    "            self.pages.append(page)\n",
    "            self.pages_count += 1\n",
    "        \n",
    "    def tear_pages(self):\n",
    "        if self.pages > 1:\n",
    "            self.pages_count -= 1\n",
    "        else:\n",
    "            return \"pages not left to tear\"\n",
    "        \n",
    "    def __repr__(self):\n",
    "        return self.colour+\" notebook\""
   ]
  },
  {
   "cell_type": "code",
   "execution_count": 3,
   "id": "2299806f",
   "metadata": {},
   "outputs": [],
   "source": [
    "class Page:\n",
    "    def __init__(self,length,width,colour):\n",
    "        self.length = length\n",
    "        self.width = width\n",
    "        self.colour = colour\n",
    "        \n",
    "    def __repr__(self):\n",
    "        return self.colour+ \" page\""
   ]
  },
  {
   "cell_type": "code",
   "execution_count": 4,
   "id": "221a2e9d",
   "metadata": {},
   "outputs": [],
   "source": [
    "notebook = Notebook(2,2,\"white\")"
   ]
  },
  {
   "cell_type": "code",
   "execution_count": 5,
   "id": "bddc99da",
   "metadata": {},
   "outputs": [
    {
     "data": {
      "text/plain": [
       "0"
      ]
     },
     "execution_count": 5,
     "metadata": {},
     "output_type": "execute_result"
    }
   ],
   "source": [
    "notebook.pages_count"
   ]
  },
  {
   "cell_type": "code",
   "execution_count": 8,
   "id": "5e0be7ea",
   "metadata": {},
   "outputs": [],
   "source": [
    "no_of_pages = [{\"length\":2,\"width\":2,\"colour\":\"white\"},{\"length\":2,\"width\":2,\"colour\":\"white\"},\n",
    "               {\"length\":2,\"width\":2,\"colour\":\"white\"}]\n",
    "list_of_pages = []\n",
    "\n",
    "for i in range(3):\n",
    "    list_of_pages.append(Page(no_of_pages[i][\"length\"],no_of_pages[i][\"width\"],no_of_pages[i][\"colour\"]))"
   ]
  },
  {
   "cell_type": "code",
   "execution_count": 9,
   "id": "440c77dc",
   "metadata": {},
   "outputs": [
    {
     "data": {
      "text/plain": [
       "white page"
      ]
     },
     "execution_count": 9,
     "metadata": {},
     "output_type": "execute_result"
    }
   ],
   "source": [
    "list_of_pages[1]"
   ]
  },
  {
   "cell_type": "code",
   "execution_count": 10,
   "id": "9739b3e1",
   "metadata": {},
   "outputs": [],
   "source": [
    "notebook.has_pages(list_of_pages[0])\n",
    "notebook.has_pages(list_of_pages[1])\n",
    "notebook.has_pages(list_of_pages[2])                  "
   ]
  },
  {
   "cell_type": "code",
   "execution_count": 11,
   "id": "888163a8",
   "metadata": {},
   "outputs": [
    {
     "data": {
      "text/plain": [
       "3"
      ]
     },
     "execution_count": 11,
     "metadata": {},
     "output_type": "execute_result"
    }
   ],
   "source": [
    "notebook.pages_count"
   ]
  },
  {
   "cell_type": "code",
   "execution_count": null,
   "id": "0ba1f8e3",
   "metadata": {},
   "outputs": [],
   "source": []
  }
 ],
 "metadata": {
  "kernelspec": {
   "display_name": "Python 3 (ipykernel)",
   "language": "python",
   "name": "python3"
  },
  "language_info": {
   "codemirror_mode": {
    "name": "ipython",
    "version": 3
   },
   "file_extension": ".py",
   "mimetype": "text/x-python",
   "name": "python",
   "nbconvert_exporter": "python",
   "pygments_lexer": "ipython3",
   "version": "3.9.7"
  }
 },
 "nbformat": 4,
 "nbformat_minor": 5
}
