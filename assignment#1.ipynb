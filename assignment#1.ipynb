{
 "cells": [
  {
   "cell_type": "code",
   "execution_count": 4,
   "id": "93d40ded",
   "metadata": {},
   "outputs": [
    {
     "name": "stdout",
     "output_type": "stream",
     "text": [
      "enter your name:chuck\n",
      "Hello chuck\n"
     ]
    }
   ],
   "source": [
    "#variables,expressions and statements\n",
    "#question no 1\n",
    "#write a program that uses input to prompt a user for their name and then welcomes them.\n",
    "name=input(\"enter your name:\")\n",
    "new_num= \"Hello \" + name\n",
    "print(new_num)"
   ]
  },
  {
   "cell_type": "code",
   "execution_count": 61,
   "id": "361fe5e1",
   "metadata": {},
   "outputs": [
    {
     "name": "stdout",
     "output_type": "stream",
     "text": [
      "enter your hour:35\n",
      "enter your rate:2.75\n",
      "96.25\n"
     ]
    }
   ],
   "source": [
    "#question no 2\n",
    "#write a program to prompt a user for hours and rate per hour to compute gross pay.\n",
    "hours=int(input(\"enter your hour:\"))\n",
    "rate=float(input(\"enter your rate:\"))\n",
    "pay=hours*rate\n",
    "print(pay)"
   ]
  },
  {
   "cell_type": "code",
   "execution_count": 5,
   "id": "ac43aa0e",
   "metadata": {},
   "outputs": [
    {
     "name": "stdout",
     "output_type": "stream",
     "text": [
      "8\n",
      "<class 'int'>\n",
      "8.5\n",
      "<class 'float'>\n",
      "4.0\n",
      "<class 'float'>\n",
      "11\n",
      "<class 'int'>\n"
     ]
    }
   ],
   "source": [
    "#question no 3\n",
    "#asume that we execute the following assignment statements:\n",
    "#width=17, height= 12.0\n",
    "#for each of the following expressions,write the value of the expression and the type(of the value of the expression)\n",
    "width=17\n",
    "height=12.0\n",
    "a=width//2\n",
    "print(a)\n",
    "print(type(a))\n",
    "a=width/2.0\n",
    "print(a)\n",
    "print(type(a))\n",
    "b=height/3\n",
    "print(b)\n",
    "print(type(b))\n",
    "c=1+2*5\n",
    "print(c)\n",
    "print(type(c))"
   ]
  },
  {
   "cell_type": "code",
   "execution_count": 15,
   "id": "4d324f3d",
   "metadata": {},
   "outputs": [
    {
     "name": "stdout",
     "output_type": "stream",
     "text": [
      "enter your temperature37\n",
      "your temperature is:  98.60000000000001\n"
     ]
    }
   ],
   "source": [
    "#question no 4\n",
    "#write a program which prompts the user for a celsius temp,convert the temp to fahrenheit,print \n",
    "#out the converted temp.\n",
    "Celsius=int(input(\"enter your temperature\"))\n",
    "fahrenheit=(Celsius*1.8)+32\n",
    "print(\"your temperature is: \", fahrenheit)\n"
   ]
  },
  {
   "cell_type": "code",
   "execution_count": 36,
   "id": "e9b638f1",
   "metadata": {},
   "outputs": [
    {
     "name": "stdout",
     "output_type": "stream",
     "text": [
      "Enter the Number27\n",
      "your number is: 27\n",
      "729\n",
      "27 is not a perfect square\n"
     ]
    }
   ],
   "source": [
    "#question no 5\n",
    "#write a program to find if a given number is a perfect square or not.\n",
    "number = int(input(\"Enter the Number\"))\n",
    "print(\"your number is:\",number)\n",
    "root=(number)**2\n",
    "print(root)\n",
    "if(root+0.5)**2==number:\n",
    "    print(number, \"is a perfect square\")\n",
    "else:\n",
    "    print(number, \"is not a perfect square\")"
   ]
  },
  {
   "cell_type": "code",
   "execution_count": 16,
   "id": "67f2ce4b",
   "metadata": {
    "scrolled": true
   },
   "outputs": [
    {
     "name": "stdout",
     "output_type": "stream",
     "text": [
      "enter your actual cost:500\n",
      "enter your sale amount:250\n",
      "total loss amount= 250.0\n"
     ]
    }
   ],
   "source": [
    "#question no 6\n",
    "#write python statement to calculate and print the simple profit .\n",
    "actual_cost=float(input(\"enter your actual cost:\"))\n",
    "sale_amount=float(input(\"enter your sale amount:\"))\n",
    "\n",
    "if (sale_amount - actual_cost)<0: # if sale is less than the cost then we are in loss\n",
    "    amount = actual_cost - sale_amount # calculating the loss\n",
    "    print(\"total loss amount=\",format(amount))\n",
    "    \n",
    "elif (sale_amount - actual_cost)>0: # if sale is more than the cost then we are in profit\n",
    "    amount = sale_amount - actual_cost # calculating the profit\n",
    "    print(\"total profit amount=\",format(amount))\n",
    "    \n",
    "else:\n",
    "    print(\"no loss no profit\")"
   ]
  },
  {
   "cell_type": "code",
   "execution_count": 8,
   "id": "639edd1f",
   "metadata": {},
   "outputs": [
    {
     "data": {
      "text/plain": [
       "331"
      ]
     },
     "execution_count": 8,
     "metadata": {},
     "output_type": "execute_result"
    }
   ],
   "source": [
    "d = [33,77,78,98,45]\n",
    "sum(d)"
   ]
  },
  {
   "cell_type": "code",
   "execution_count": 8,
   "id": "5b70e5de",
   "metadata": {},
   "outputs": [
    {
     "name": "stdout",
     "output_type": "stream",
     "text": [
      "17j\n",
      "3j\n",
      "(-70+0j)\n"
     ]
    }
   ],
   "source": [
    "#question no 7\n",
    "#write python statement to create 2 compex objects and print the sum,diff,product.\n",
    "data=10j\n",
    "new_data=7j\n",
    "\n",
    "my_sum = data + new_data\n",
    "print(my_sum)\n",
    "\n",
    "difference= data - new_data\n",
    "print(difference)\n",
    "\n",
    "product= data * new_data\n",
    "print(product)"
   ]
  },
  {
   "cell_type": "code",
   "execution_count": 42,
   "id": "0bb823a1",
   "metadata": {},
   "outputs": [
    {
     "name": "stdout",
     "output_type": "stream",
     "text": [
      "enter your data:python for beginners\n"
     ]
    },
    {
     "data": {
      "text/plain": [
       "'Python For Beginners'"
      ]
     },
     "execution_count": 42,
     "metadata": {},
     "output_type": "execute_result"
    }
   ],
   "source": [
    "#question no 8\n",
    "#write python statements to accept a string from the user and print it in title case.\n",
    "string=input(\"enter your data:\")\n",
    "string.title()\n"
   ]
  },
  {
   "cell_type": "code",
   "execution_count": 47,
   "id": "524c264d",
   "metadata": {},
   "outputs": [
    {
     "name": "stdout",
     "output_type": "stream",
     "text": [
      "0.8475\n",
      "<class 'str'>\n",
      "<class 'float'>\n"
     ]
    },
    {
     "data": {
      "text/plain": [
       "5.8475"
      ]
     },
     "execution_count": 47,
     "metadata": {},
     "output_type": "execute_result"
    }
   ],
   "source": [
    "#strings\n",
    "#question no 1\n",
    "str_ = \"X-DSPAM-Confidence:0.8475\"\n",
    "# now slicing the string to get last 6 digits\n",
    "g = str_[-6:] \n",
    "print(g)\n",
    "print(type(g))\n",
    "\n",
    "a = float(g)\n",
    "print(type(a))\n",
    "a + 5\n",
    "\n"
   ]
  },
  {
   "cell_type": "code",
   "execution_count": 19,
   "id": "40ce43de",
   "metadata": {},
   "outputs": [
    {
     "data": {
      "text/plain": [
       "['Welcome', 'to', 'the', 'Course', 'on', 'Data', 'Science.']"
      ]
     },
     "execution_count": 19,
     "metadata": {},
     "output_type": "execute_result"
    }
   ],
   "source": [
    "#question no 2\n",
    "#split the string\n",
    "my_str=\"Welcome to the Course on Data Science.\"\n",
    "my_str.split()\n"
   ]
  },
  {
   "cell_type": "code",
   "execution_count": 20,
   "id": "806b2a02",
   "metadata": {},
   "outputs": [
    {
     "data": {
      "text/plain": [
       "'Welcome to '"
      ]
     },
     "execution_count": 20,
     "metadata": {},
     "output_type": "execute_result"
    }
   ],
   "source": [
    "#print only first 10 letters\n",
    "my_str=\"Welcome to the Course on Data Science.\"\n",
    "my_str[0:11]"
   ]
  },
  {
   "cell_type": "code",
   "execution_count": 26,
   "id": "15be7f64",
   "metadata": {},
   "outputs": [
    {
     "name": "stdout",
     "output_type": "stream",
     "text": [
      "Welcome Science.\n"
     ]
    }
   ],
   "source": [
    "#make a new string from this, such that it has only these words \"welcome Science\"\n",
    "my_str=\"Welcome to the Course on Data Science.\"\n",
    "new_str= my_str[0:7] +  my_str[-9:]\n",
    "print(new_str)"
   ]
  },
  {
   "cell_type": "code",
   "execution_count": 29,
   "id": "4b1702d6",
   "metadata": {},
   "outputs": [
    {
     "data": {
      "text/plain": [
       "3"
      ]
     },
     "execution_count": 29,
     "metadata": {},
     "output_type": "execute_result"
    }
   ],
   "source": [
    "#question no 3\n",
    "#calculate num of occurences of a given character in any given string.\n",
    "data=\"Python for Beginners\"\n",
    "data.count(\"n\")"
   ]
  },
  {
   "cell_type": "code",
   "execution_count": 34,
   "id": "3469916c",
   "metadata": {},
   "outputs": [
    {
     "data": {
      "text/plain": [
       "1"
      ]
     },
     "execution_count": 34,
     "metadata": {},
     "output_type": "execute_result"
    }
   ],
   "source": [
    "#question no 4\n",
    "#count num of occurences of each word in a given string.\n",
    "data=\"Python for Beginners\"\n",
    "data.count(\"Python\")"
   ]
  },
  {
   "cell_type": "code",
   "execution_count": 31,
   "id": "ad01f4cf",
   "metadata": {},
   "outputs": [
    {
     "data": {
      "text/plain": [
       "1"
      ]
     },
     "execution_count": 31,
     "metadata": {},
     "output_type": "execute_result"
    }
   ],
   "source": [
    "data.count(\"for\")"
   ]
  },
  {
   "cell_type": "code",
   "execution_count": 33,
   "id": "afaccb3d",
   "metadata": {},
   "outputs": [
    {
     "data": {
      "text/plain": [
       "1"
      ]
     },
     "execution_count": 33,
     "metadata": {},
     "output_type": "execute_result"
    }
   ],
   "source": [
    "data.count(\"Beginners\")"
   ]
  },
  {
   "cell_type": "code",
   "execution_count": 48,
   "id": "10d7aac4",
   "metadata": {},
   "outputs": [
    {
     "name": "stdout",
     "output_type": "stream",
     "text": [
      "['sajal']\n",
      "['sajal']\n"
     ]
    }
   ],
   "source": [
    "#list\n",
    "#question no 1\n",
    "#make a modify it by reomving first and last elements. then make a list called middle that contains all except the fist and last element.\n",
    "list_=[\"maha\", \"sajal\", \"ayesha\"]\n",
    "list_.remove(\"maha\")\n",
    "list_.remove(\"ayesha\")\n",
    "print(list_)\n",
    "middle=list_\n",
    "print(middle)"
   ]
  },
  {
   "cell_type": "code",
   "execution_count": 49,
   "id": "73f46f1c",
   "metadata": {},
   "outputs": [
    {
     "name": "stdout",
     "output_type": "stream",
     "text": [
      "{'for', 'python', 'beginners', 'language'}\n"
     ]
    }
   ],
   "source": [
    "#question no 2\n",
    "#create a list of some text and find the unique words in it.\n",
    "data = [\"python\",\"language\", \"for\",\"beginners\", \"for\",\"beginners\", \"for\",\"beginners\"]\n",
    "unique_data = set(data)\n",
    "print(unique_data)"
   ]
  },
  {
   "cell_type": "code",
   "execution_count": 58,
   "id": "713a99ee",
   "metadata": {},
   "outputs": [
    {
     "name": "stdout",
     "output_type": "stream",
     "text": [
      "['apple', 'cherry', 'grapes', 'strawberry', 'mango', 'peach']\n"
     ]
    }
   ],
   "source": [
    "#question no 3\n",
    "#write a program to add items in a list\n",
    "data=[\"apple\",\"cherry\",\"grapes\"]\n",
    "data1=[\"strawberry\", \"mango\" ,\"peach\"]\n",
    "new_list=data + data1\n",
    "print(new_list)"
   ]
  },
  {
   "cell_type": "code",
   "execution_count": 55,
   "id": "863a870d",
   "metadata": {},
   "outputs": [],
   "source": [
    "data = []"
   ]
  },
  {
   "cell_type": "code",
   "execution_count": 57,
   "id": "9bf2140d",
   "metadata": {},
   "outputs": [
    {
     "name": "stdout",
     "output_type": "stream",
     "text": [
      "please add an item: strawberry\n"
     ]
    }
   ],
   "source": [
    "d = input('please add an item: ')\n",
    "data.append(d)"
   ]
  },
  {
   "cell_type": "code",
   "execution_count": 58,
   "id": "7301643a",
   "metadata": {},
   "outputs": [
    {
     "data": {
      "text/plain": [
       "['apple', 'strawberry']"
      ]
     },
     "execution_count": 58,
     "metadata": {},
     "output_type": "execute_result"
    }
   ],
   "source": [
    "data"
   ]
  },
  {
   "cell_type": "code",
   "execution_count": 9,
   "id": "2625a146",
   "metadata": {},
   "outputs": [
    {
     "name": "stdout",
     "output_type": "stream",
     "text": [
      "87\n",
      "11\n"
     ]
    }
   ],
   "source": [
    "#question no4\n",
    "#write a program to get the largest and smallest number in list.\n",
    "data=[12,56,43,87,11]\n",
    "print(max(data))\n",
    "print(min(data))"
   ]
  },
  {
   "cell_type": "code",
   "execution_count": 9,
   "id": "570b7454",
   "metadata": {},
   "outputs": [
    {
     "name": "stdout",
     "output_type": "stream",
     "text": [
      "{98, 67, 12, 45}\n",
      "[12, 67, 98, 67, 45, 12, 98]\n"
     ]
    }
   ],
   "source": [
    "#question no 5\n",
    "#write a program to remove duplicates from list.\n",
    "list1=[12,67,98,67,45,12,98]\n",
    "duplicate_items=set(list1)\n",
    "\n",
    "# for x in list: \n",
    "#     if x not in duplicate_items:\n",
    "#         duplicate_items.add(x)\n",
    "    \n",
    "print(duplicate_items)\n",
    "print(list1)"
   ]
  },
  {
   "cell_type": "code",
   "execution_count": 61,
   "id": "c79b0878",
   "metadata": {},
   "outputs": [
    {
     "name": "stdout",
     "output_type": "stream",
     "text": [
      "[12, 67, 98, 45]\n",
      "[12, 67, 98, 67, 45, 12, 98]\n"
     ]
    }
   ],
   "source": [
    "list1=[12,67,98,67,45,12,98]\n",
    "duplicate_items= []\n",
    "\n",
    "for x in list1: \n",
    "    if x not in duplicate_items:\n",
    "        duplicate_items.append(x)\n",
    "    \n",
    "print(duplicate_items)\n",
    "print(list1)"
   ]
  },
  {
   "cell_type": "code",
   "execution_count": 77,
   "id": "c628f7d1",
   "metadata": {},
   "outputs": [
    {
     "name": "stdout",
     "output_type": "stream",
     "text": [
      "[8]\n"
     ]
    }
   ],
   "source": [
    "#question no 6\n",
    "#write a program that prints whether atleast one num of the given two lists are same\n",
    "a=[1,3,6,8,9]\n",
    "b=[2,4,5,8,7]\n",
    "dup_list=[]\n",
    "for num in a:\n",
    "    if num in b:\n",
    "        dup_list.append(num)\n",
    "print(dup_list)\n",
    "        "
   ]
  },
  {
   "cell_type": "code",
   "execution_count": 73,
   "id": "c33a61c2",
   "metadata": {},
   "outputs": [
    {
     "name": "stdout",
     "output_type": "stream",
     "text": [
      "python\n"
     ]
    }
   ],
   "source": [
    "#question no7\n",
    "#write a program to convert a list of characters into string.\n",
    "import time\n",
    "\n",
    "a=['p','y','t','h','o','n']\n",
    "joined = ''\n",
    "for char in a:\n",
    "    joined = joined + char\n",
    "#     time.sleep(2)\n",
    "print(joined)"
   ]
  },
  {
   "cell_type": "code",
   "execution_count": 78,
   "id": "63490536",
   "metadata": {},
   "outputs": [
    {
     "name": "stdout",
     "output_type": "stream",
     "text": [
      "identical\n"
     ]
    }
   ],
   "source": [
    "#question no 8\n",
    "#write a program to check whether two lists are identical.\n",
    "a=[67,10,45,12]\n",
    "b=[67,10,45,12]\n",
    "if a==b:\n",
    "    print(\"identical\")\n",
    "else:\n",
    "    print(\"not identical\")"
   ]
  },
  {
   "cell_type": "code",
   "execution_count": 2,
   "id": "72a94071",
   "metadata": {},
   "outputs": [
    {
     "name": "stdout",
     "output_type": "stream",
     "text": [
      "{'for', 'python', 'beginners'}\n"
     ]
    }
   ],
   "source": [
    "#question no 9\n",
    "#write a program to print unique values from list.\n",
    "a=[\"python\",\"for\",\"beginners\",\"python\",\"for\"]\n",
    "b=set(a)\n",
    "print(b)\n"
   ]
  },
  {
   "cell_type": "code",
   "execution_count": 81,
   "id": "14682794",
   "metadata": {},
   "outputs": [
    {
     "data": {
      "text/plain": [
       "2"
      ]
     },
     "execution_count": 81,
     "metadata": {},
     "output_type": "execute_result"
    }
   ],
   "source": [
    "#question no 10\n",
    "#write a program to print the num of occurences of each element in a list.\n",
    "data=[\"sajal\",\"ayesha\",\"sajal\",\"alishba\",\"ayesha\"]\n",
    "data.count(\"sajal\")"
   ]
  },
  {
   "cell_type": "code",
   "execution_count": 82,
   "id": "2e47278c",
   "metadata": {},
   "outputs": [
    {
     "data": {
      "text/plain": [
       "2"
      ]
     },
     "execution_count": 82,
     "metadata": {},
     "output_type": "execute_result"
    }
   ],
   "source": [
    "data.count(\"ayesha\")"
   ]
  },
  {
   "cell_type": "code",
   "execution_count": 83,
   "id": "3dbf841a",
   "metadata": {},
   "outputs": [
    {
     "data": {
      "text/plain": [
       "1"
      ]
     },
     "execution_count": 83,
     "metadata": {},
     "output_type": "execute_result"
    }
   ],
   "source": [
    "data.count(\"alishba\")"
   ]
  },
  {
   "cell_type": "code",
   "execution_count": 2,
   "id": "d9d7c364",
   "metadata": {},
   "outputs": [
    {
     "name": "stdout",
     "output_type": "stream",
     "text": [
      "[79, 11]\n"
     ]
    }
   ],
   "source": [
    "#question no 11\n",
    "#write a program to find sub-list in a list of lists whose sum is the heighest.\n",
    "number=[[12,56],[79,11]]\n",
    "print(max(number,key=sum))\n",
    "\n"
   ]
  },
  {
   "cell_type": "code",
   "execution_count": 80,
   "id": "e1ef1333",
   "metadata": {},
   "outputs": [
    {
     "name": "stdout",
     "output_type": "stream",
     "text": [
      "[79, 11]\n"
     ]
    }
   ],
   "source": [
    "#question no 11\n",
    "#write a program to find sub-list in a list of lists whose sum is the heighest.\n",
    "\n",
    "number=[[12,56],[79,11]]\n",
    "\n",
    "highest_sum = 0\n",
    "highest_list = 0\n",
    "\n",
    "for i in range(len(number)): \n",
    "    if sum(number[i])>highest_sum: # agar number mai i ka sum highest num se zyada ho to highest list ko equal to i\n",
    "        highest_list = i\n",
    "        highest_sum = sum(number[i])\n",
    "\n",
    "print(number[highest_list])\n",
    "    "
   ]
  },
  {
   "cell_type": "code",
   "execution_count": 8,
   "id": "894ad3fb",
   "metadata": {},
   "outputs": [
    {
     "name": "stdout",
     "output_type": "stream",
     "text": [
      "plz insert the string to be attached: sajal\n",
      "['sajalmaha', 'sajalayesha', 'sajalgull']\n"
     ]
    }
   ],
   "source": [
    "#question no 12\n",
    "#write a program to insert a given string at the beginning of all strings in list\n",
    "\n",
    "L = [\"maha\",\"ayesha\",\"gull\"]\n",
    "data = input(\"plz insert the string to be attached: \")\n",
    "\n",
    "for i in range(len(L)):\n",
    "    L[i] = data+L[i]\n",
    "\n",
    "print(L)"
   ]
  },
  {
   "cell_type": "code",
   "execution_count": 9,
   "id": "37b8b7d7",
   "metadata": {},
   "outputs": [
    {
     "name": "stdout",
     "output_type": "stream",
     "text": [
      "<class 'str'>\n",
      "['sajal']\n",
      "<class 'list'>\n",
      "['sajal']\n"
     ]
    }
   ],
   "source": [
    "#question13\n",
    "#write a program to convert a string to list of characters.\n",
    "\n",
    "a = \"sajal\"\n",
    "print(type(a))\n",
    "b=[a]\n",
    "print(b)\n",
    "print(type(b))\n",
    "print(b)"
   ]
  },
  {
   "cell_type": "code",
   "execution_count": 10,
   "id": "3e9ed7a2",
   "metadata": {},
   "outputs": [
    {
     "name": "stdout",
     "output_type": "stream",
     "text": [
      "<class 'str'>\n",
      "['s', 'a', 'j', 'a', 'l']\n"
     ]
    }
   ],
   "source": [
    "a= \"sajal\"\n",
    "print(type(a))\n",
    "b= []\n",
    "# for i in a:\n",
    "#     b = b + [i] # merging two lists\n",
    "#     print(b)\n",
    "#     print(type(b))\n",
    "\n",
    "\n",
    "for i in a:\n",
    "    b.append(i)\n",
    "print(b)"
   ]
  },
  {
   "cell_type": "code",
   "execution_count": 18,
   "id": "817c3037",
   "metadata": {},
   "outputs": [
    {
     "name": "stdout",
     "output_type": "stream",
     "text": [
      "12\n",
      "1245\n",
      "124598\n",
      "12459877\n"
     ]
    }
   ],
   "source": [
    "#question no14\n",
    "#write a program to concatenate elements of list with corrosponding.\n",
    "\n",
    "data = [12,45,98,77]\n",
    "# for i in data:\n",
    "#     print(i,end=\"\")\n",
    "\n",
    "\n",
    "catenated = ''\n",
    "for number in data:\n",
    "    number = str(number)\n",
    "    catenated = catenated + number\n",
    "    print(catenated)\n"
   ]
  },
  {
   "cell_type": "code",
   "execution_count": 26,
   "id": "ac2baccd",
   "metadata": {},
   "outputs": [
    {
     "data": {
      "text/plain": [
       "[10, 12]"
      ]
     },
     "execution_count": 26,
     "metadata": {},
     "output_type": "execute_result"
    }
   ],
   "source": [
    "l = [10,11,12,13,14,15]\n",
    "l[0:4:2]"
   ]
  },
  {
   "cell_type": "code",
   "execution_count": 34,
   "id": "1215892b",
   "metadata": {},
   "outputs": [
    {
     "name": "stdout",
     "output_type": "stream",
     "text": [
      "[['a', 'b', 'c', 'd'], ['e', 'f', 'g', 'h'], ['i', 'j', 'k', 'l'], ['m', 'n', 'o', 'p']]\n"
     ]
    }
   ],
   "source": [
    "#question no 15\n",
    "#write a program to split a list every n-th element to obtain a list of lists.\n",
    "\n",
    "lst = [\"a\",\"b\",\"c\",\"d\",\"e\",\"f\",\"g\",\"h\",\"i\",\"j\",\"k\",\"l\",\"m\", \"n\", \"o\", \"p\"]\n",
    "\n",
    "s = []\n",
    "inner_list = []\n",
    "\n",
    "for element in lst:    \n",
    "    inner_list.append(element)\n",
    "    if len(inner_list)==4:\n",
    "        s.append(inner_list)\n",
    "        inner_list = []\n",
    "\n",
    "print(s) "
   ]
  },
  {
   "cell_type": "code",
   "execution_count": 7,
   "id": "1fdefac4",
   "metadata": {},
   "outputs": [
    {
     "name": "stdout",
     "output_type": "stream",
     "text": [
      "<class 'str'>\n",
      "25122\n",
      "<class 'int'>\n",
      "12561.0\n"
     ]
    }
   ],
   "source": [
    "#question no 16\n",
    "#write a program to convert a list of multiple integers into one single integers.thus,the \n",
    "#list[25,12,2] should get converted to the number 25122.\n",
    "\n",
    "lst = [25,12,2]\n",
    "# for i in lst:\n",
    "#     print(i,end=\"\")\n",
    "\n",
    "n = ''\n",
    "for num in lst:\n",
    "    num = str(num)\n",
    "    n = n+num\n",
    "\n",
    "print(type(n))\n",
    "print(n)\n",
    "n = int(n)\n",
    "print(type(n))\n",
    "print(n)\n"
   ]
  },
  {
   "cell_type": "code",
   "execution_count": 9,
   "id": "a333f78a",
   "metadata": {},
   "outputs": [
    {
     "name": "stdout",
     "output_type": "stream",
     "text": [
      "((1,), (2,), (3,))\n"
     ]
    }
   ],
   "source": [
    "#tuples\n",
    "#question no 1\n",
    "#write a program to convert a tuple of values into a tuple of singleton tuples of values.\n",
    "#thus,(1,2,3)\n",
    "#should get converted to ((1,),(2,),(3,)).\n",
    "\n",
    "a = (1,2,3)\n",
    "tup = (a[0:1],a[1:2],a[2:])\n",
    "print(tup)\n"
   ]
  },
  {
   "cell_type": "code",
   "execution_count": 9,
   "id": "65f6232a",
   "metadata": {},
   "outputs": [
    {
     "name": "stdout",
     "output_type": "stream",
     "text": [
      "2\n"
     ]
    }
   ],
   "source": [
    "#tuples\n",
    "#question no 2\n",
    "#write a program to count the numb of elements in list until it finds a tuple in the list.\n",
    "\n",
    "data = [1,67,(34,50),88]\n",
    "for i in data:\n",
    "    if type(i)==tuple: # i ki type agr tuple h to print krdengy jis index pr wo tuple hogi\n",
    "        print(data.index(i))\n"
   ]
  },
  {
   "cell_type": "code",
   "execution_count": 24,
   "id": "45e51872",
   "metadata": {},
   "outputs": [
    {
     "name": "stdout",
     "output_type": "stream",
     "text": [
      "(3, 7, 11)\n"
     ]
    }
   ],
   "source": [
    "#question no 3\n",
    "#write a program to add corrosponding elements of two given tuples,giving rise to a new tuple.\n",
    "\n",
    "tup1 = (2,4,6)\n",
    "tup2 = (1,3,5)\n",
    "sum1 = (tup1[0]+tup2[0]),(tup1[1]+tup2[1]),(tup1[2]+tup2[2])\n",
    "print(sum1)\n",
    "\n"
   ]
  },
  {
   "cell_type": "code",
   "execution_count": 21,
   "id": "74520740",
   "metadata": {},
   "outputs": [
    {
     "name": "stdout",
     "output_type": "stream",
     "text": [
      "(33, 285, 132)\n"
     ]
    }
   ],
   "source": [
    "#question no 4\n",
    "#write a program to multiply each element of a given tuple with a given integer,giving rise to new tuple.\n",
    "\n",
    "data = [11,95,44]\n",
    "data1 = (data[0]*3),(data[1]*3),(data[2]*3)\n",
    "print(data1)"
   ]
  },
  {
   "cell_type": "code",
   "execution_count": 11,
   "id": "bb636733",
   "metadata": {},
   "outputs": [
    {
     "name": "stdout",
     "output_type": "stream",
     "text": [
      "12\n"
     ]
    }
   ],
   "source": [
    "#sets\n",
    "#question no 1\n",
    "#add few unique num in set and use \"in\" operator to search for an element.\n",
    "\n",
    "set_ = [1,2,3,4,5,12,45]\n",
    "for num in set_:\n",
    "    if num == 12:\n",
    "        print(num)"
   ]
  },
  {
   "cell_type": "code",
   "execution_count": 13,
   "id": "ca0284cc",
   "metadata": {},
   "outputs": [
    {
     "name": "stdout",
     "output_type": "stream",
     "text": [
      "{56, 234, 95}\n"
     ]
    }
   ],
   "source": [
    "#question no 2\n",
    "#write a program to convert a list of integers into list of unique integers using sets.\n",
    "\n",
    "listx = [234,56,95,95]\n",
    "unique_integers= set(listx)\n",
    "print(unique_integers)\n",
    "\n"
   ]
  },
  {
   "cell_type": "code",
   "execution_count": 19,
   "id": "75481841",
   "metadata": {},
   "outputs": [
    {
     "name": "stdout",
     "output_type": "stream",
     "text": [
      "enter your IP address:72.234\n",
      "enter your IP address:72.234\n",
      "same\n",
      "72.234\n",
      "72.234\n"
     ]
    }
   ],
   "source": [
    "#question no 3\n",
    "#assume that we have only two lists,each having only IP adressess as its contents.\n",
    "#write a program to determine if the 2 lists have same IP adressess in most optional manner.\n",
    "\n",
    "a = float(input(\"enter your IP address:\"))\n",
    "b = float(input(\"enter your IP address:\"))\n",
    "if a == b:\n",
    "    print(\"same\")\n",
    "else:\n",
    "    print(\"not same\")\n",
    "\n",
    "print(a)\n",
    "print(b)"
   ]
  },
  {
   "cell_type": "code",
   "execution_count": 11,
   "id": "0bb9f657",
   "metadata": {},
   "outputs": [
    {
     "data": {
      "text/plain": [
       "dict_keys(['marks'])"
      ]
     },
     "execution_count": 11,
     "metadata": {},
     "output_type": "execute_result"
    }
   ],
   "source": [
    "#dictionary\n",
    "#question no 1\n",
    "#prepare a dictionary that has roll num as keys and marks as values. print all keys.\n",
    "#print all values.Get 2 different values using their keys.\n",
    "\n",
    "d = {\"roll_num\":{\"marks\":77}}\n",
    "d[\"roll_num\"].keys()\n"
   ]
  },
  {
   "cell_type": "code",
   "execution_count": 12,
   "id": "486f5a23",
   "metadata": {},
   "outputs": [
    {
     "data": {
      "text/plain": [
       "dict_keys(['roll_num'])"
      ]
     },
     "execution_count": 12,
     "metadata": {},
     "output_type": "execute_result"
    }
   ],
   "source": [
    "d.keys()"
   ]
  },
  {
   "cell_type": "code",
   "execution_count": 16,
   "id": "de106f73",
   "metadata": {},
   "outputs": [
    {
     "data": {
      "text/plain": [
       "77"
      ]
     },
     "execution_count": 16,
     "metadata": {},
     "output_type": "execute_result"
    }
   ],
   "source": [
    "d[\"roll_num\"][\"marks\"]"
   ]
  },
  {
   "cell_type": "code",
   "execution_count": 22,
   "id": "15fd2fb9",
   "metadata": {},
   "outputs": [
    {
     "name": "stdout",
     "output_type": "stream",
     "text": [
      "enter your roll num:5\n",
      "enter your marks:35\n"
     ]
    }
   ],
   "source": [
    "roll_num = int(input(\"enter your roll num:\"))\n",
    "marks = int(input(\"enter your marks:\"))\n"
   ]
  },
  {
   "cell_type": "code",
   "execution_count": null,
   "id": "9ae5a99c",
   "metadata": {},
   "outputs": [],
   "source": [
    "roll_num = int(input(\"enter your roll num:\"))\n",
    "d = {roll_num:{marks:(int(input(\"enter your marks:\")))}}\n",
    "d[\"roll_num\"][\"marks\"]\n"
   ]
  },
  {
   "cell_type": "code",
   "execution_count": 10,
   "id": "bba27d71",
   "metadata": {},
   "outputs": [],
   "source": [
    "#question no 2:\n",
    "\n",
    "# a shop has following commodities with its inventory maintained in a dictionary:\n",
    "# and its price in another dictionary\n",
    "# accept the number of items for each commodity sold from standard input and at \n",
    "# the end do the following:\n",
    "# evaluate the income made by the shop owner\n",
    "# if user enters a commodity that is not available in shop,display appropriate message\n",
    "# if user enters a quantity that is beyond the available limit,display the size of inventory.\n",
    "# display the inventory available.\n"
   ]
  },
  {
   "cell_type": "markdown",
   "id": "1cb94f40",
   "metadata": {},
   "source": [
    "1- selling\n",
    "2- income made\n",
    "3- if no commodity : tell the user\n",
    "4- if num-of-items more than available : tell the user & display the inventory size"
   ]
  },
  {
   "cell_type": "code",
   "execution_count": 11,
   "id": "373c56bd",
   "metadata": {},
   "outputs": [
    {
     "name": "stdout",
     "output_type": "stream",
     "text": [
      "What do you want to buy? or enter done for exit: chair\n",
      "chair is available for sale\n",
      "Please enter the quantity for chair: 1\n",
      "What do you want to buy? or enter done for exit: done\n",
      "Thank you for shopping.\n"
     ]
    }
   ],
   "source": [
    "comm={\"chair\":10,\"table\":22,\"sofa-set\":2,\"tv-unit\":0,\"fan\":10,\n",
    "      \"table-lamp\":0,\"iron-box\":0,\"bed\":30}\n",
    "price={\"chair\":2365,\"table\":37752,\"sofa-set\":23299,\"tv-unit\":120344,\"bed\":40226}\n",
    "\n",
    "money_made = 0\n",
    "\n",
    "while True:\n",
    "    data = input(\"What do you want to buy? or enter done for exit: \")\n",
    "    \n",
    "    if data=='done':\n",
    "        print('Thank you for shopping.')\n",
    "        break\n",
    "    \n",
    "    # check whether the item is in the inventory or not\n",
    "    if data in comm.keys():\n",
    "        print(data+' is available for sale')\n",
    "        \n",
    "        # asking for quantity needed\n",
    "        quantity = input(f'''Please enter the quantity for {data}: ''')\n",
    "        quantity = int(quantity)\n",
    "        \n",
    "        # checking whether we have this many items available for sale in the inventory\n",
    "        if comm[data] >= quantity: #available is more than asked for\n",
    "            # selling: cash = price*quantity; inventory update\n",
    "            # cash\n",
    "            item_price = price[data]\n",
    "            cash = item_price * quantity\n",
    "            money_made = money_made + cash\n",
    "            # inventory update\n",
    "            comm[data] = comm[data] - quantity\n",
    "            \n",
    "        else:\n",
    "            print('sorry, {} {} are not available. Only {} are available'.format(quantity, data, comm[data]))\n",
    "        \n",
    "    else:\n",
    "        print('sorry, we do not sell this item. Try something else.')\n"
   ]
  },
  {
   "cell_type": "code",
   "execution_count": 35,
   "id": "60ecf723",
   "metadata": {},
   "outputs": [
    {
     "name": "stdout",
     "output_type": "stream",
     "text": [
      "What do you want to buy? or enter done for exit: chair\n",
      "chair is available for sale\n",
      "Please enter the quantity for chair: 2\n",
      "What do you want to buy? or enter done for exit: chair\n",
      "chair is available for sale\n",
      "Please enter the quantity for chair: 2\n",
      "What do you want to buy? or enter done for exit: done\n",
      "Your bill is: \n",
      "----------------------------------------------------------------\n",
      "item            unit price           quantity              total\n",
      "----------------------------------------------------------------\n",
      "chair            2365                   4                  9460\n",
      "----------------------------------------------------------------\n",
      "                                                   total:  9460\n"
     ]
    }
   ],
   "source": [
    "comm = {\"chair\":10,\"table\":22,\"sofa-set\":2,\"tv-unit\":0,\"fan\":10,\n",
    "      \"table-lamp\":0,\"iron-box\":0,\"bed\":30}\n",
    "price = {\"chair\":2365,\"table\":37752,\"sofa-set\":23299,\"tv-unit\":120344,\"bed\":40226}\n",
    "\n",
    "bill = dict()\n",
    "\n",
    "while True:\n",
    "    data = input(\"What do you want to buy? or enter done for exit: \")\n",
    "    \n",
    "    if data=='done':\n",
    "        grand_total = 0\n",
    "        print('Your bill is: ')\n",
    "        print('----------------------------------------------------------------')\n",
    "        print('item            unit price           quantity              total')\n",
    "        print('----------------------------------------------------------------')\n",
    "        for key in bill.keys():\n",
    "            grand_total = grand_total + (price[key]*bill[key]) # total price for each item added to the grand_total\n",
    "            \n",
    "            print(key+'            '+ str(price[key]) +'                   '+ str(bill[key]) +'                  '+ str(price[key]*bill[key]))\n",
    "        \n",
    "        print('----------------------------------------------------------------')\n",
    "        print('                                                   total: ',grand_total)\n",
    "        break\n",
    "    \n",
    "    # check whether the item is in the inventory or not\n",
    "    if data in comm.keys():\n",
    "        print(data+' is available for sale')\n",
    "        \n",
    "        # asking for quantity needed\n",
    "        quantity = input(f'''Please enter the quantity for {data}: ''')\n",
    "        quantity = int(quantity)\n",
    "        \n",
    "        # checking whether we have this many items available for sale in the inventory\n",
    "        if comm[data] >= quantity: #available is more than asked for\n",
    "            # adding item to the bill\n",
    "            if data in bill.keys(): # if this item is already purchased then add to the existing quantity\n",
    "                bill[data] = bill[data] + quantity\n",
    "            else: # otherwise create a new key-value pair\n",
    "                bill[data] = quantity\n",
    "            # inventory update\n",
    "            comm[data] = comm[data] - quantity\n",
    "            \n",
    "        else:\n",
    "            print('sorry, {} {} are not available. Only {} are available'.format(quantity, data, comm[data]))\n",
    "        \n",
    "    else:\n",
    "        print('sorry, we do not sell this item. Try something else.')\n"
   ]
  },
  {
   "cell_type": "code",
   "execution_count": null,
   "id": "11e08257",
   "metadata": {},
   "outputs": [],
   "source": []
  }
 ],
 "metadata": {
  "kernelspec": {
   "display_name": "Python 3 (ipykernel)",
   "language": "python",
   "name": "python3"
  },
  "language_info": {
   "codemirror_mode": {
    "name": "ipython",
    "version": 3
   },
   "file_extension": ".py",
   "mimetype": "text/x-python",
   "name": "python",
   "nbconvert_exporter": "python",
   "pygments_lexer": "ipython3",
   "version": "3.9.7"
  }
 },
 "nbformat": 4,
 "nbformat_minor": 5
}
